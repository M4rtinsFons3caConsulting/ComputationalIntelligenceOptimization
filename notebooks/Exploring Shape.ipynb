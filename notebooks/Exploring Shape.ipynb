{
 "cells": [
  {
   "cell_type": "markdown",
   "metadata": {},
   "source": [
    "# Matrix creating using mod 7,5 "
   ]
  },
  {
   "cell_type": "code",
   "execution_count": 5,
   "metadata": {},
   "outputs": [],
   "source": [
    "# TODO: index matrix and weights; calculate rowise cost; calculate rowise mean and std. dev."
   ]
  },
  {
   "cell_type": "code",
   "execution_count": 7,
   "metadata": {},
   "outputs": [],
   "source": [
    "import pandas as pd\n",
    "import numpy as np\n",
    "from constants import PATH, CONSTRAINTS"
   ]
  },
  {
   "cell_type": "markdown",
   "metadata": {},
   "source": [
    "Loading"
   ]
  },
  {
   "cell_type": "code",
   "execution_count": 21,
   "metadata": {},
   "outputs": [
    {
     "data": {
      "application/vnd.microsoft.datawrangler.viewer.v0+json": {
       "columns": [
        {
         "name": "index",
         "rawType": "int64",
         "type": "integer"
        },
        {
         "name": "Unnamed: 0",
         "rawType": "int64",
         "type": "integer"
        },
        {
         "name": "Name",
         "rawType": "object",
         "type": "string"
        },
        {
         "name": "Position",
         "rawType": "object",
         "type": "string"
        },
        {
         "name": "Skill",
         "rawType": "int64",
         "type": "integer"
        },
        {
         "name": "Salary (â‚¬M)",
         "rawType": "int64",
         "type": "integer"
        }
       ],
       "conversionMethod": "pd.DataFrame",
       "ref": "865e3b03-23de-4abb-bf77-222af7ae85f2",
       "rows": [
        [
         "0",
         "0",
         "Alex Carter",
         "GK",
         "85",
         "90"
        ],
        [
         "1",
         "1",
         "Jordan Smith",
         "GK",
         "88",
         "100"
        ],
        [
         "2",
         "2",
         "Ryan Mitchell",
         "GK",
         "83",
         "85"
        ],
        [
         "3",
         "3",
         "Chris Thompson",
         "GK",
         "80",
         "80"
        ],
        [
         "4",
         "4",
         "Blake Henderson",
         "GK",
         "87",
         "95"
        ],
        [
         "5",
         "5",
         "Daniel Foster",
         "DEF",
         "90",
         "110"
        ],
        [
         "6",
         "6",
         "Lucas Bennett",
         "DEF",
         "85",
         "90"
        ],
        [
         "7",
         "7",
         "Owen Parker",
         "DEF",
         "88",
         "100"
        ],
        [
         "8",
         "8",
         "Ethan Howard",
         "DEF",
         "80",
         "70"
        ],
        [
         "9",
         "9",
         "Mason Reed",
         "DEF",
         "82",
         "75"
        ],
        [
         "10",
         "10",
         "Logan Brooks",
         "DEF",
         "86",
         "95"
        ],
        [
         "11",
         "11",
         "Caleb Fisher",
         "DEF",
         "84",
         "85"
        ],
        [
         "12",
         "12",
         "Nathan Wright",
         "MID",
         "92",
         "120"
        ],
        [
         "13",
         "13",
         "Connor Hayes",
         "MID",
         "89",
         "105"
        ],
        [
         "14",
         "14",
         "Dylan Morgan",
         "MID",
         "91",
         "115"
        ],
        [
         "15",
         "15",
         "Hunter Cooper",
         "MID",
         "83",
         "85"
        ],
        [
         "16",
         "16",
         "Austin Torres",
         "MID",
         "82",
         "80"
        ],
        [
         "17",
         "17",
         "Gavin Richardson",
         "MID",
         "87",
         "95"
        ],
        [
         "18",
         "18",
         "Spencer Ward",
         "MID",
         "84",
         "85"
        ],
        [
         "19",
         "19",
         "Sebastian Perry",
         "FWD",
         "95",
         "150"
        ],
        [
         "20",
         "20",
         "Xavier Bryant",
         "FWD",
         "90",
         "120"
        ],
        [
         "21",
         "21",
         "Elijah Sanders",
         "FWD",
         "93",
         "140"
        ],
        [
         "22",
         "22",
         "Adrian Collins",
         "FWD",
         "85",
         "90"
        ],
        [
         "23",
         "23",
         "Tyler Jenkins",
         "FWD",
         "80",
         "70"
        ],
        [
         "24",
         "24",
         "Chase Murphy",
         "FWD",
         "86",
         "95"
        ],
        [
         "25",
         "25",
         "Landon Powell",
         "FWD",
         "89",
         "110"
        ],
        [
         "26",
         "26",
         "Julian Scott",
         "FWD",
         "92",
         "130"
        ],
        [
         "27",
         "27",
         "Bentley Rivera",
         "MID",
         "88",
         "100"
        ],
        [
         "28",
         "28",
         "Maxwell Flores",
         "DEF",
         "81",
         "72"
        ],
        [
         "29",
         "29",
         "Dominic Bell",
         "MID",
         "86",
         "95"
        ],
        [
         "30",
         "30",
         "Jaxon Griffin",
         "DEF",
         "79",
         "65"
        ],
        [
         "31",
         "31",
         "Ashton Phillips",
         "MID",
         "90",
         "110"
        ],
        [
         "32",
         "32",
         "Colton Gray",
         "FWD",
         "91",
         "125"
        ],
        [
         "33",
         "33",
         "Brayden Hughes",
         "DEF",
         "87",
         "100"
        ],
        [
         "34",
         "34",
         "Zachary Nelson",
         "FWD",
         "86",
         "92"
        ]
       ],
       "shape": {
        "columns": 5,
        "rows": 35
       }
      },
      "text/html": [
       "<div>\n",
       "<style scoped>\n",
       "    .dataframe tbody tr th:only-of-type {\n",
       "        vertical-align: middle;\n",
       "    }\n",
       "\n",
       "    .dataframe tbody tr th {\n",
       "        vertical-align: top;\n",
       "    }\n",
       "\n",
       "    .dataframe thead th {\n",
       "        text-align: right;\n",
       "    }\n",
       "</style>\n",
       "<table border=\"1\" class=\"dataframe\">\n",
       "  <thead>\n",
       "    <tr style=\"text-align: right;\">\n",
       "      <th></th>\n",
       "      <th>Unnamed: 0</th>\n",
       "      <th>Name</th>\n",
       "      <th>Position</th>\n",
       "      <th>Skill</th>\n",
       "      <th>Salary (â‚¬M)</th>\n",
       "    </tr>\n",
       "  </thead>\n",
       "  <tbody>\n",
       "    <tr>\n",
       "      <th>0</th>\n",
       "      <td>0</td>\n",
       "      <td>Alex Carter</td>\n",
       "      <td>GK</td>\n",
       "      <td>85</td>\n",
       "      <td>90</td>\n",
       "    </tr>\n",
       "    <tr>\n",
       "      <th>1</th>\n",
       "      <td>1</td>\n",
       "      <td>Jordan Smith</td>\n",
       "      <td>GK</td>\n",
       "      <td>88</td>\n",
       "      <td>100</td>\n",
       "    </tr>\n",
       "    <tr>\n",
       "      <th>2</th>\n",
       "      <td>2</td>\n",
       "      <td>Ryan Mitchell</td>\n",
       "      <td>GK</td>\n",
       "      <td>83</td>\n",
       "      <td>85</td>\n",
       "    </tr>\n",
       "    <tr>\n",
       "      <th>3</th>\n",
       "      <td>3</td>\n",
       "      <td>Chris Thompson</td>\n",
       "      <td>GK</td>\n",
       "      <td>80</td>\n",
       "      <td>80</td>\n",
       "    </tr>\n",
       "    <tr>\n",
       "      <th>4</th>\n",
       "      <td>4</td>\n",
       "      <td>Blake Henderson</td>\n",
       "      <td>GK</td>\n",
       "      <td>87</td>\n",
       "      <td>95</td>\n",
       "    </tr>\n",
       "    <tr>\n",
       "      <th>5</th>\n",
       "      <td>5</td>\n",
       "      <td>Daniel Foster</td>\n",
       "      <td>DEF</td>\n",
       "      <td>90</td>\n",
       "      <td>110</td>\n",
       "    </tr>\n",
       "    <tr>\n",
       "      <th>6</th>\n",
       "      <td>6</td>\n",
       "      <td>Lucas Bennett</td>\n",
       "      <td>DEF</td>\n",
       "      <td>85</td>\n",
       "      <td>90</td>\n",
       "    </tr>\n",
       "    <tr>\n",
       "      <th>7</th>\n",
       "      <td>7</td>\n",
       "      <td>Owen Parker</td>\n",
       "      <td>DEF</td>\n",
       "      <td>88</td>\n",
       "      <td>100</td>\n",
       "    </tr>\n",
       "    <tr>\n",
       "      <th>8</th>\n",
       "      <td>8</td>\n",
       "      <td>Ethan Howard</td>\n",
       "      <td>DEF</td>\n",
       "      <td>80</td>\n",
       "      <td>70</td>\n",
       "    </tr>\n",
       "    <tr>\n",
       "      <th>9</th>\n",
       "      <td>9</td>\n",
       "      <td>Mason Reed</td>\n",
       "      <td>DEF</td>\n",
       "      <td>82</td>\n",
       "      <td>75</td>\n",
       "    </tr>\n",
       "    <tr>\n",
       "      <th>10</th>\n",
       "      <td>10</td>\n",
       "      <td>Logan Brooks</td>\n",
       "      <td>DEF</td>\n",
       "      <td>86</td>\n",
       "      <td>95</td>\n",
       "    </tr>\n",
       "    <tr>\n",
       "      <th>11</th>\n",
       "      <td>11</td>\n",
       "      <td>Caleb Fisher</td>\n",
       "      <td>DEF</td>\n",
       "      <td>84</td>\n",
       "      <td>85</td>\n",
       "    </tr>\n",
       "    <tr>\n",
       "      <th>12</th>\n",
       "      <td>12</td>\n",
       "      <td>Nathan Wright</td>\n",
       "      <td>MID</td>\n",
       "      <td>92</td>\n",
       "      <td>120</td>\n",
       "    </tr>\n",
       "    <tr>\n",
       "      <th>13</th>\n",
       "      <td>13</td>\n",
       "      <td>Connor Hayes</td>\n",
       "      <td>MID</td>\n",
       "      <td>89</td>\n",
       "      <td>105</td>\n",
       "    </tr>\n",
       "    <tr>\n",
       "      <th>14</th>\n",
       "      <td>14</td>\n",
       "      <td>Dylan Morgan</td>\n",
       "      <td>MID</td>\n",
       "      <td>91</td>\n",
       "      <td>115</td>\n",
       "    </tr>\n",
       "    <tr>\n",
       "      <th>15</th>\n",
       "      <td>15</td>\n",
       "      <td>Hunter Cooper</td>\n",
       "      <td>MID</td>\n",
       "      <td>83</td>\n",
       "      <td>85</td>\n",
       "    </tr>\n",
       "    <tr>\n",
       "      <th>16</th>\n",
       "      <td>16</td>\n",
       "      <td>Austin Torres</td>\n",
       "      <td>MID</td>\n",
       "      <td>82</td>\n",
       "      <td>80</td>\n",
       "    </tr>\n",
       "    <tr>\n",
       "      <th>17</th>\n",
       "      <td>17</td>\n",
       "      <td>Gavin Richardson</td>\n",
       "      <td>MID</td>\n",
       "      <td>87</td>\n",
       "      <td>95</td>\n",
       "    </tr>\n",
       "    <tr>\n",
       "      <th>18</th>\n",
       "      <td>18</td>\n",
       "      <td>Spencer Ward</td>\n",
       "      <td>MID</td>\n",
       "      <td>84</td>\n",
       "      <td>85</td>\n",
       "    </tr>\n",
       "    <tr>\n",
       "      <th>19</th>\n",
       "      <td>19</td>\n",
       "      <td>Sebastian Perry</td>\n",
       "      <td>FWD</td>\n",
       "      <td>95</td>\n",
       "      <td>150</td>\n",
       "    </tr>\n",
       "    <tr>\n",
       "      <th>20</th>\n",
       "      <td>20</td>\n",
       "      <td>Xavier Bryant</td>\n",
       "      <td>FWD</td>\n",
       "      <td>90</td>\n",
       "      <td>120</td>\n",
       "    </tr>\n",
       "    <tr>\n",
       "      <th>21</th>\n",
       "      <td>21</td>\n",
       "      <td>Elijah Sanders</td>\n",
       "      <td>FWD</td>\n",
       "      <td>93</td>\n",
       "      <td>140</td>\n",
       "    </tr>\n",
       "    <tr>\n",
       "      <th>22</th>\n",
       "      <td>22</td>\n",
       "      <td>Adrian Collins</td>\n",
       "      <td>FWD</td>\n",
       "      <td>85</td>\n",
       "      <td>90</td>\n",
       "    </tr>\n",
       "    <tr>\n",
       "      <th>23</th>\n",
       "      <td>23</td>\n",
       "      <td>Tyler Jenkins</td>\n",
       "      <td>FWD</td>\n",
       "      <td>80</td>\n",
       "      <td>70</td>\n",
       "    </tr>\n",
       "    <tr>\n",
       "      <th>24</th>\n",
       "      <td>24</td>\n",
       "      <td>Chase Murphy</td>\n",
       "      <td>FWD</td>\n",
       "      <td>86</td>\n",
       "      <td>95</td>\n",
       "    </tr>\n",
       "    <tr>\n",
       "      <th>25</th>\n",
       "      <td>25</td>\n",
       "      <td>Landon Powell</td>\n",
       "      <td>FWD</td>\n",
       "      <td>89</td>\n",
       "      <td>110</td>\n",
       "    </tr>\n",
       "    <tr>\n",
       "      <th>26</th>\n",
       "      <td>26</td>\n",
       "      <td>Julian Scott</td>\n",
       "      <td>FWD</td>\n",
       "      <td>92</td>\n",
       "      <td>130</td>\n",
       "    </tr>\n",
       "    <tr>\n",
       "      <th>27</th>\n",
       "      <td>27</td>\n",
       "      <td>Bentley Rivera</td>\n",
       "      <td>MID</td>\n",
       "      <td>88</td>\n",
       "      <td>100</td>\n",
       "    </tr>\n",
       "    <tr>\n",
       "      <th>28</th>\n",
       "      <td>28</td>\n",
       "      <td>Maxwell Flores</td>\n",
       "      <td>DEF</td>\n",
       "      <td>81</td>\n",
       "      <td>72</td>\n",
       "    </tr>\n",
       "    <tr>\n",
       "      <th>29</th>\n",
       "      <td>29</td>\n",
       "      <td>Dominic Bell</td>\n",
       "      <td>MID</td>\n",
       "      <td>86</td>\n",
       "      <td>95</td>\n",
       "    </tr>\n",
       "    <tr>\n",
       "      <th>30</th>\n",
       "      <td>30</td>\n",
       "      <td>Jaxon Griffin</td>\n",
       "      <td>DEF</td>\n",
       "      <td>79</td>\n",
       "      <td>65</td>\n",
       "    </tr>\n",
       "    <tr>\n",
       "      <th>31</th>\n",
       "      <td>31</td>\n",
       "      <td>Ashton Phillips</td>\n",
       "      <td>MID</td>\n",
       "      <td>90</td>\n",
       "      <td>110</td>\n",
       "    </tr>\n",
       "    <tr>\n",
       "      <th>32</th>\n",
       "      <td>32</td>\n",
       "      <td>Colton Gray</td>\n",
       "      <td>FWD</td>\n",
       "      <td>91</td>\n",
       "      <td>125</td>\n",
       "    </tr>\n",
       "    <tr>\n",
       "      <th>33</th>\n",
       "      <td>33</td>\n",
       "      <td>Brayden Hughes</td>\n",
       "      <td>DEF</td>\n",
       "      <td>87</td>\n",
       "      <td>100</td>\n",
       "    </tr>\n",
       "    <tr>\n",
       "      <th>34</th>\n",
       "      <td>34</td>\n",
       "      <td>Zachary Nelson</td>\n",
       "      <td>FWD</td>\n",
       "      <td>86</td>\n",
       "      <td>92</td>\n",
       "    </tr>\n",
       "  </tbody>\n",
       "</table>\n",
       "</div>"
      ],
      "text/plain": [
       "    Unnamed: 0              Name Position  Skill  Salary (â‚¬M)\n",
       "0            0       Alex Carter       GK     85             90\n",
       "1            1      Jordan Smith       GK     88            100\n",
       "2            2     Ryan Mitchell       GK     83             85\n",
       "3            3    Chris Thompson       GK     80             80\n",
       "4            4   Blake Henderson       GK     87             95\n",
       "5            5     Daniel Foster      DEF     90            110\n",
       "6            6     Lucas Bennett      DEF     85             90\n",
       "7            7       Owen Parker      DEF     88            100\n",
       "8            8      Ethan Howard      DEF     80             70\n",
       "9            9        Mason Reed      DEF     82             75\n",
       "10          10      Logan Brooks      DEF     86             95\n",
       "11          11      Caleb Fisher      DEF     84             85\n",
       "12          12     Nathan Wright      MID     92            120\n",
       "13          13      Connor Hayes      MID     89            105\n",
       "14          14      Dylan Morgan      MID     91            115\n",
       "15          15     Hunter Cooper      MID     83             85\n",
       "16          16     Austin Torres      MID     82             80\n",
       "17          17  Gavin Richardson      MID     87             95\n",
       "18          18      Spencer Ward      MID     84             85\n",
       "19          19   Sebastian Perry      FWD     95            150\n",
       "20          20     Xavier Bryant      FWD     90            120\n",
       "21          21    Elijah Sanders      FWD     93            140\n",
       "22          22    Adrian Collins      FWD     85             90\n",
       "23          23     Tyler Jenkins      FWD     80             70\n",
       "24          24      Chase Murphy      FWD     86             95\n",
       "25          25     Landon Powell      FWD     89            110\n",
       "26          26      Julian Scott      FWD     92            130\n",
       "27          27    Bentley Rivera      MID     88            100\n",
       "28          28    Maxwell Flores      DEF     81             72\n",
       "29          29      Dominic Bell      MID     86             95\n",
       "30          30     Jaxon Griffin      DEF     79             65\n",
       "31          31   Ashton Phillips      MID     90            110\n",
       "32          32       Colton Gray      FWD     91            125\n",
       "33          33    Brayden Hughes      DEF     87            100\n",
       "34          34    Zachary Nelson      FWD     86             92"
      ]
     },
     "execution_count": 21,
     "metadata": {},
     "output_type": "execute_result"
    }
   ],
   "source": [
    "data = pd.read_excel(PATH)\n",
    "data"
   ]
  },
  {
   "cell_type": "code",
   "execution_count": 9,
   "metadata": {},
   "outputs": [
    {
     "ename": "NameError",
     "evalue": "name 'PARTITIONS' is not defined",
     "output_type": "error",
     "traceback": [
      "\u001b[31m---------------------------------------------------------------------------\u001b[39m",
      "\u001b[31mNameError\u001b[39m                                 Traceback (most recent call last)",
      "\u001b[36mCell\u001b[39m\u001b[36m \u001b[39m\u001b[32mIn[9]\u001b[39m\u001b[32m, line 5\u001b[39m\n\u001b[32m      2\u001b[39m data = pd.read_excel(PATH, index_col=\u001b[33m'\u001b[39m\u001b[33mUnnamed: 0\u001b[39m\u001b[33m'\u001b[39m)\n\u001b[32m      4\u001b[39m \u001b[38;5;66;03m# Define the custom order based on the PARTITIONS dictionary keys\u001b[39;00m\n\u001b[32m----> \u001b[39m\u001b[32m5\u001b[39m custom_order = \u001b[38;5;28mlist\u001b[39m(\u001b[43mPARTITIONS\u001b[49m.keys())\n\u001b[32m      7\u001b[39m \u001b[38;5;66;03m# Set the custom order in the 'position' column using pd.Categorical\u001b[39;00m\n\u001b[32m      8\u001b[39m data[\u001b[33m'\u001b[39m\u001b[33mPosition\u001b[39m\u001b[33m'\u001b[39m] = pd.Categorical(\n\u001b[32m      9\u001b[39m     data[\u001b[33m'\u001b[39m\u001b[33mPosition\u001b[39m\u001b[33m'\u001b[39m]\n\u001b[32m     10\u001b[39m     , categories=custom_order\n\u001b[32m     11\u001b[39m     , ordered=\u001b[38;5;28;01mTrue\u001b[39;00m\n\u001b[32m     12\u001b[39m     )\n",
      "\u001b[31mNameError\u001b[39m: name 'PARTITIONS' is not defined"
     ]
    }
   ],
   "source": [
    "# Load the data\n",
    "data = pd.read_excel(PATH, index_col='Unnamed: 0')\n",
    "\n",
    "# Define the custom order based on the PARTITIONS dictionary keys\n",
    "custom_order = list(PARTITIONS.keys())\n",
    "\n",
    "# Set the custom order in the 'position' column using pd.Categorical\n",
    "data['Position'] = pd.Categorical(\n",
    "    data['Position']\n",
    "    , categories=custom_order\n",
    "    , ordered=True\n",
    "    )\n",
    "\n",
    "# Sort data by Position\n",
    "data = data.sort_values(by='Position')\n",
    "\n",
    "# Reset the indices to obtain a unique Id\n",
    "data.reset_index(inplace=True, drop=True)\n",
    "data.reset_index(inplace=True)\n",
    "\n",
    "# Transform to np array\n",
    "data = np.array(data)"
   ]
  },
  {
   "cell_type": "code",
   "execution_count": 10,
   "metadata": {},
   "outputs": [
    {
     "data": {
      "application/vnd.microsoft.datawrangler.viewer.v0+json": {
       "columns": [
        {
         "name": "index",
         "rawType": "int64",
         "type": "integer"
        },
        {
         "name": "Name",
         "rawType": "object",
         "type": "string"
        },
        {
         "name": "Position",
         "rawType": "object",
         "type": "string"
        },
        {
         "name": "Skill",
         "rawType": "int64",
         "type": "integer"
        },
        {
         "name": "Salary (â‚¬M)",
         "rawType": "int64",
         "type": "integer"
        }
       ],
       "conversionMethod": "pd.DataFrame",
       "ref": "b857348e-f6ed-4aed-8049-fa8496474c15",
       "rows": [
        [
         "0",
         "Alex Carter",
         "GK",
         "85",
         "90"
        ],
        [
         "1",
         "Jordan Smith",
         "GK",
         "88",
         "100"
        ],
        [
         "2",
         "Ryan Mitchell",
         "GK",
         "83",
         "85"
        ],
        [
         "3",
         "Chris Thompson",
         "GK",
         "80",
         "80"
        ],
        [
         "4",
         "Blake Henderson",
         "GK",
         "87",
         "95"
        ],
        [
         "5",
         "Daniel Foster",
         "DEF",
         "90",
         "110"
        ],
        [
         "6",
         "Lucas Bennett",
         "DEF",
         "85",
         "90"
        ],
        [
         "7",
         "Owen Parker",
         "DEF",
         "88",
         "100"
        ],
        [
         "8",
         "Ethan Howard",
         "DEF",
         "80",
         "70"
        ],
        [
         "9",
         "Mason Reed",
         "DEF",
         "82",
         "75"
        ],
        [
         "10",
         "Logan Brooks",
         "DEF",
         "86",
         "95"
        ],
        [
         "11",
         "Caleb Fisher",
         "DEF",
         "84",
         "85"
        ],
        [
         "12",
         "Nathan Wright",
         "MID",
         "92",
         "120"
        ],
        [
         "13",
         "Connor Hayes",
         "MID",
         "89",
         "105"
        ],
        [
         "14",
         "Dylan Morgan",
         "MID",
         "91",
         "115"
        ],
        [
         "15",
         "Hunter Cooper",
         "MID",
         "83",
         "85"
        ],
        [
         "16",
         "Austin Torres",
         "MID",
         "82",
         "80"
        ],
        [
         "17",
         "Gavin Richardson",
         "MID",
         "87",
         "95"
        ],
        [
         "18",
         "Spencer Ward",
         "MID",
         "84",
         "85"
        ],
        [
         "19",
         "Sebastian Perry",
         "FWD",
         "95",
         "150"
        ],
        [
         "20",
         "Xavier Bryant",
         "FWD",
         "90",
         "120"
        ],
        [
         "21",
         "Elijah Sanders",
         "FWD",
         "93",
         "140"
        ],
        [
         "22",
         "Adrian Collins",
         "FWD",
         "85",
         "90"
        ],
        [
         "23",
         "Tyler Jenkins",
         "FWD",
         "80",
         "70"
        ],
        [
         "24",
         "Chase Murphy",
         "FWD",
         "86",
         "95"
        ],
        [
         "25",
         "Landon Powell",
         "FWD",
         "89",
         "110"
        ],
        [
         "26",
         "Julian Scott",
         "FWD",
         "92",
         "130"
        ],
        [
         "27",
         "Bentley Rivera",
         "MID",
         "88",
         "100"
        ],
        [
         "28",
         "Maxwell Flores",
         "DEF",
         "81",
         "72"
        ],
        [
         "29",
         "Dominic Bell",
         "MID",
         "86",
         "95"
        ],
        [
         "30",
         "Jaxon Griffin",
         "DEF",
         "79",
         "65"
        ],
        [
         "31",
         "Ashton Phillips",
         "MID",
         "90",
         "110"
        ],
        [
         "32",
         "Colton Gray",
         "FWD",
         "91",
         "125"
        ],
        [
         "33",
         "Brayden Hughes",
         "DEF",
         "87",
         "100"
        ],
        [
         "34",
         "Zachary Nelson",
         "FWD",
         "86",
         "92"
        ]
       ],
       "shape": {
        "columns": 4,
        "rows": 35
       }
      },
      "text/html": [
       "<div>\n",
       "<style scoped>\n",
       "    .dataframe tbody tr th:only-of-type {\n",
       "        vertical-align: middle;\n",
       "    }\n",
       "\n",
       "    .dataframe tbody tr th {\n",
       "        vertical-align: top;\n",
       "    }\n",
       "\n",
       "    .dataframe thead th {\n",
       "        text-align: right;\n",
       "    }\n",
       "</style>\n",
       "<table border=\"1\" class=\"dataframe\">\n",
       "  <thead>\n",
       "    <tr style=\"text-align: right;\">\n",
       "      <th></th>\n",
       "      <th>Name</th>\n",
       "      <th>Position</th>\n",
       "      <th>Skill</th>\n",
       "      <th>Salary (â‚¬M)</th>\n",
       "    </tr>\n",
       "  </thead>\n",
       "  <tbody>\n",
       "    <tr>\n",
       "      <th>0</th>\n",
       "      <td>Alex Carter</td>\n",
       "      <td>GK</td>\n",
       "      <td>85</td>\n",
       "      <td>90</td>\n",
       "    </tr>\n",
       "    <tr>\n",
       "      <th>1</th>\n",
       "      <td>Jordan Smith</td>\n",
       "      <td>GK</td>\n",
       "      <td>88</td>\n",
       "      <td>100</td>\n",
       "    </tr>\n",
       "    <tr>\n",
       "      <th>2</th>\n",
       "      <td>Ryan Mitchell</td>\n",
       "      <td>GK</td>\n",
       "      <td>83</td>\n",
       "      <td>85</td>\n",
       "    </tr>\n",
       "    <tr>\n",
       "      <th>3</th>\n",
       "      <td>Chris Thompson</td>\n",
       "      <td>GK</td>\n",
       "      <td>80</td>\n",
       "      <td>80</td>\n",
       "    </tr>\n",
       "    <tr>\n",
       "      <th>4</th>\n",
       "      <td>Blake Henderson</td>\n",
       "      <td>GK</td>\n",
       "      <td>87</td>\n",
       "      <td>95</td>\n",
       "    </tr>\n",
       "    <tr>\n",
       "      <th>5</th>\n",
       "      <td>Daniel Foster</td>\n",
       "      <td>DEF</td>\n",
       "      <td>90</td>\n",
       "      <td>110</td>\n",
       "    </tr>\n",
       "    <tr>\n",
       "      <th>6</th>\n",
       "      <td>Lucas Bennett</td>\n",
       "      <td>DEF</td>\n",
       "      <td>85</td>\n",
       "      <td>90</td>\n",
       "    </tr>\n",
       "    <tr>\n",
       "      <th>7</th>\n",
       "      <td>Owen Parker</td>\n",
       "      <td>DEF</td>\n",
       "      <td>88</td>\n",
       "      <td>100</td>\n",
       "    </tr>\n",
       "    <tr>\n",
       "      <th>8</th>\n",
       "      <td>Ethan Howard</td>\n",
       "      <td>DEF</td>\n",
       "      <td>80</td>\n",
       "      <td>70</td>\n",
       "    </tr>\n",
       "    <tr>\n",
       "      <th>9</th>\n",
       "      <td>Mason Reed</td>\n",
       "      <td>DEF</td>\n",
       "      <td>82</td>\n",
       "      <td>75</td>\n",
       "    </tr>\n",
       "    <tr>\n",
       "      <th>10</th>\n",
       "      <td>Logan Brooks</td>\n",
       "      <td>DEF</td>\n",
       "      <td>86</td>\n",
       "      <td>95</td>\n",
       "    </tr>\n",
       "    <tr>\n",
       "      <th>11</th>\n",
       "      <td>Caleb Fisher</td>\n",
       "      <td>DEF</td>\n",
       "      <td>84</td>\n",
       "      <td>85</td>\n",
       "    </tr>\n",
       "    <tr>\n",
       "      <th>12</th>\n",
       "      <td>Nathan Wright</td>\n",
       "      <td>MID</td>\n",
       "      <td>92</td>\n",
       "      <td>120</td>\n",
       "    </tr>\n",
       "    <tr>\n",
       "      <th>13</th>\n",
       "      <td>Connor Hayes</td>\n",
       "      <td>MID</td>\n",
       "      <td>89</td>\n",
       "      <td>105</td>\n",
       "    </tr>\n",
       "    <tr>\n",
       "      <th>14</th>\n",
       "      <td>Dylan Morgan</td>\n",
       "      <td>MID</td>\n",
       "      <td>91</td>\n",
       "      <td>115</td>\n",
       "    </tr>\n",
       "    <tr>\n",
       "      <th>15</th>\n",
       "      <td>Hunter Cooper</td>\n",
       "      <td>MID</td>\n",
       "      <td>83</td>\n",
       "      <td>85</td>\n",
       "    </tr>\n",
       "    <tr>\n",
       "      <th>16</th>\n",
       "      <td>Austin Torres</td>\n",
       "      <td>MID</td>\n",
       "      <td>82</td>\n",
       "      <td>80</td>\n",
       "    </tr>\n",
       "    <tr>\n",
       "      <th>17</th>\n",
       "      <td>Gavin Richardson</td>\n",
       "      <td>MID</td>\n",
       "      <td>87</td>\n",
       "      <td>95</td>\n",
       "    </tr>\n",
       "    <tr>\n",
       "      <th>18</th>\n",
       "      <td>Spencer Ward</td>\n",
       "      <td>MID</td>\n",
       "      <td>84</td>\n",
       "      <td>85</td>\n",
       "    </tr>\n",
       "    <tr>\n",
       "      <th>19</th>\n",
       "      <td>Sebastian Perry</td>\n",
       "      <td>FWD</td>\n",
       "      <td>95</td>\n",
       "      <td>150</td>\n",
       "    </tr>\n",
       "    <tr>\n",
       "      <th>20</th>\n",
       "      <td>Xavier Bryant</td>\n",
       "      <td>FWD</td>\n",
       "      <td>90</td>\n",
       "      <td>120</td>\n",
       "    </tr>\n",
       "    <tr>\n",
       "      <th>21</th>\n",
       "      <td>Elijah Sanders</td>\n",
       "      <td>FWD</td>\n",
       "      <td>93</td>\n",
       "      <td>140</td>\n",
       "    </tr>\n",
       "    <tr>\n",
       "      <th>22</th>\n",
       "      <td>Adrian Collins</td>\n",
       "      <td>FWD</td>\n",
       "      <td>85</td>\n",
       "      <td>90</td>\n",
       "    </tr>\n",
       "    <tr>\n",
       "      <th>23</th>\n",
       "      <td>Tyler Jenkins</td>\n",
       "      <td>FWD</td>\n",
       "      <td>80</td>\n",
       "      <td>70</td>\n",
       "    </tr>\n",
       "    <tr>\n",
       "      <th>24</th>\n",
       "      <td>Chase Murphy</td>\n",
       "      <td>FWD</td>\n",
       "      <td>86</td>\n",
       "      <td>95</td>\n",
       "    </tr>\n",
       "    <tr>\n",
       "      <th>25</th>\n",
       "      <td>Landon Powell</td>\n",
       "      <td>FWD</td>\n",
       "      <td>89</td>\n",
       "      <td>110</td>\n",
       "    </tr>\n",
       "    <tr>\n",
       "      <th>26</th>\n",
       "      <td>Julian Scott</td>\n",
       "      <td>FWD</td>\n",
       "      <td>92</td>\n",
       "      <td>130</td>\n",
       "    </tr>\n",
       "    <tr>\n",
       "      <th>27</th>\n",
       "      <td>Bentley Rivera</td>\n",
       "      <td>MID</td>\n",
       "      <td>88</td>\n",
       "      <td>100</td>\n",
       "    </tr>\n",
       "    <tr>\n",
       "      <th>28</th>\n",
       "      <td>Maxwell Flores</td>\n",
       "      <td>DEF</td>\n",
       "      <td>81</td>\n",
       "      <td>72</td>\n",
       "    </tr>\n",
       "    <tr>\n",
       "      <th>29</th>\n",
       "      <td>Dominic Bell</td>\n",
       "      <td>MID</td>\n",
       "      <td>86</td>\n",
       "      <td>95</td>\n",
       "    </tr>\n",
       "    <tr>\n",
       "      <th>30</th>\n",
       "      <td>Jaxon Griffin</td>\n",
       "      <td>DEF</td>\n",
       "      <td>79</td>\n",
       "      <td>65</td>\n",
       "    </tr>\n",
       "    <tr>\n",
       "      <th>31</th>\n",
       "      <td>Ashton Phillips</td>\n",
       "      <td>MID</td>\n",
       "      <td>90</td>\n",
       "      <td>110</td>\n",
       "    </tr>\n",
       "    <tr>\n",
       "      <th>32</th>\n",
       "      <td>Colton Gray</td>\n",
       "      <td>FWD</td>\n",
       "      <td>91</td>\n",
       "      <td>125</td>\n",
       "    </tr>\n",
       "    <tr>\n",
       "      <th>33</th>\n",
       "      <td>Brayden Hughes</td>\n",
       "      <td>DEF</td>\n",
       "      <td>87</td>\n",
       "      <td>100</td>\n",
       "    </tr>\n",
       "    <tr>\n",
       "      <th>34</th>\n",
       "      <td>Zachary Nelson</td>\n",
       "      <td>FWD</td>\n",
       "      <td>86</td>\n",
       "      <td>92</td>\n",
       "    </tr>\n",
       "  </tbody>\n",
       "</table>\n",
       "</div>"
      ],
      "text/plain": [
       "                Name Position  Skill  Salary (â‚¬M)\n",
       "0        Alex Carter       GK     85             90\n",
       "1       Jordan Smith       GK     88            100\n",
       "2      Ryan Mitchell       GK     83             85\n",
       "3     Chris Thompson       GK     80             80\n",
       "4    Blake Henderson       GK     87             95\n",
       "5      Daniel Foster      DEF     90            110\n",
       "6      Lucas Bennett      DEF     85             90\n",
       "7        Owen Parker      DEF     88            100\n",
       "8       Ethan Howard      DEF     80             70\n",
       "9         Mason Reed      DEF     82             75\n",
       "10      Logan Brooks      DEF     86             95\n",
       "11      Caleb Fisher      DEF     84             85\n",
       "12     Nathan Wright      MID     92            120\n",
       "13      Connor Hayes      MID     89            105\n",
       "14      Dylan Morgan      MID     91            115\n",
       "15     Hunter Cooper      MID     83             85\n",
       "16     Austin Torres      MID     82             80\n",
       "17  Gavin Richardson      MID     87             95\n",
       "18      Spencer Ward      MID     84             85\n",
       "19   Sebastian Perry      FWD     95            150\n",
       "20     Xavier Bryant      FWD     90            120\n",
       "21    Elijah Sanders      FWD     93            140\n",
       "22    Adrian Collins      FWD     85             90\n",
       "23     Tyler Jenkins      FWD     80             70\n",
       "24      Chase Murphy      FWD     86             95\n",
       "25     Landon Powell      FWD     89            110\n",
       "26      Julian Scott      FWD     92            130\n",
       "27    Bentley Rivera      MID     88            100\n",
       "28    Maxwell Flores      DEF     81             72\n",
       "29      Dominic Bell      MID     86             95\n",
       "30     Jaxon Griffin      DEF     79             65\n",
       "31   Ashton Phillips      MID     90            110\n",
       "32       Colton Gray      FWD     91            125\n",
       "33    Brayden Hughes      DEF     87            100\n",
       "34    Zachary Nelson      FWD     86             92"
      ]
     },
     "execution_count": 10,
     "metadata": {},
     "output_type": "execute_result"
    }
   ],
   "source": [
    "data"
   ]
  },
  {
   "cell_type": "markdown",
   "metadata": {},
   "source": [
    "Drafting"
   ]
  },
  {
   "cell_type": "code",
   "execution_count": null,
   "metadata": {},
   "outputs": [
    {
     "ename": "KeyError",
     "evalue": "-1",
     "output_type": "error",
     "traceback": [
      "\u001b[31m---------------------------------------------------------------------------\u001b[39m",
      "\u001b[31mKeyError\u001b[39m                                  Traceback (most recent call last)",
      "\u001b[36mFile \u001b[39m\u001b[32m~/anaconda3/envs/cifo/lib/python3.13/site-packages/pandas/core/indexes/base.py:3805\u001b[39m, in \u001b[36mIndex.get_loc\u001b[39m\u001b[34m(self, key)\u001b[39m\n\u001b[32m   3804\u001b[39m \u001b[38;5;28;01mtry\u001b[39;00m:\n\u001b[32m-> \u001b[39m\u001b[32m3805\u001b[39m     \u001b[38;5;28;01mreturn\u001b[39;00m \u001b[38;5;28;43mself\u001b[39;49m\u001b[43m.\u001b[49m\u001b[43m_engine\u001b[49m\u001b[43m.\u001b[49m\u001b[43mget_loc\u001b[49m\u001b[43m(\u001b[49m\u001b[43mcasted_key\u001b[49m\u001b[43m)\u001b[49m\n\u001b[32m   3806\u001b[39m \u001b[38;5;28;01mexcept\u001b[39;00m \u001b[38;5;167;01mKeyError\u001b[39;00m \u001b[38;5;28;01mas\u001b[39;00m err:\n",
      "\u001b[36mFile \u001b[39m\u001b[32mindex.pyx:167\u001b[39m, in \u001b[36mpandas._libs.index.IndexEngine.get_loc\u001b[39m\u001b[34m()\u001b[39m\n",
      "\u001b[36mFile \u001b[39m\u001b[32mindex.pyx:196\u001b[39m, in \u001b[36mpandas._libs.index.IndexEngine.get_loc\u001b[39m\u001b[34m()\u001b[39m\n",
      "\u001b[36mFile \u001b[39m\u001b[32mpandas/_libs/hashtable_class_helper.pxi:7081\u001b[39m, in \u001b[36mpandas._libs.hashtable.PyObjectHashTable.get_item\u001b[39m\u001b[34m()\u001b[39m\n",
      "\u001b[36mFile \u001b[39m\u001b[32mpandas/_libs/hashtable_class_helper.pxi:7089\u001b[39m, in \u001b[36mpandas._libs.hashtable.PyObjectHashTable.get_item\u001b[39m\u001b[34m()\u001b[39m\n",
      "\u001b[31mKeyError\u001b[39m: -1",
      "\nThe above exception was the direct cause of the following exception:\n",
      "\u001b[31mKeyError\u001b[39m                                  Traceback (most recent call last)",
      "\u001b[36mCell\u001b[39m\u001b[36m \u001b[39m\u001b[32mIn[17]\u001b[39m\u001b[32m, line 7\u001b[39m\n\u001b[32m      5\u001b[39m \u001b[38;5;28;01mfor\u001b[39;00m i \u001b[38;5;129;01min\u001b[39;00m \u001b[38;5;28mrange\u001b[39m(shape[\u001b[32m1\u001b[39m]):\n\u001b[32m      6\u001b[39m     \u001b[38;5;28;01mfor\u001b[39;00m j \u001b[38;5;129;01min\u001b[39;00m \u001b[38;5;28mrange\u001b[39m(shape[\u001b[32m0\u001b[39m]):\n\u001b[32m----> \u001b[39m\u001b[32m7\u001b[39m         my_matrix[j][i] = \u001b[43mdata\u001b[49m\u001b[43m[\u001b[49m\u001b[32;43m5\u001b[39;49m\u001b[43m \u001b[49m\u001b[43m*\u001b[49m\u001b[43m \u001b[49m\u001b[43mi\u001b[49m\u001b[43m \u001b[49m\u001b[43m+\u001b[49m\u001b[43m \u001b[49m\u001b[43mj\u001b[49m\u001b[43m \u001b[49m\u001b[43m-\u001b[49m\u001b[43m \u001b[49m\u001b[32;43m1\u001b[39;49m\u001b[43m]\u001b[49m[\u001b[32m0\u001b[39m]\n\u001b[32m      9\u001b[39m my_matrix\n",
      "\u001b[36mFile \u001b[39m\u001b[32m~/anaconda3/envs/cifo/lib/python3.13/site-packages/pandas/core/frame.py:4102\u001b[39m, in \u001b[36mDataFrame.__getitem__\u001b[39m\u001b[34m(self, key)\u001b[39m\n\u001b[32m   4100\u001b[39m \u001b[38;5;28;01mif\u001b[39;00m \u001b[38;5;28mself\u001b[39m.columns.nlevels > \u001b[32m1\u001b[39m:\n\u001b[32m   4101\u001b[39m     \u001b[38;5;28;01mreturn\u001b[39;00m \u001b[38;5;28mself\u001b[39m._getitem_multilevel(key)\n\u001b[32m-> \u001b[39m\u001b[32m4102\u001b[39m indexer = \u001b[38;5;28;43mself\u001b[39;49m\u001b[43m.\u001b[49m\u001b[43mcolumns\u001b[49m\u001b[43m.\u001b[49m\u001b[43mget_loc\u001b[49m\u001b[43m(\u001b[49m\u001b[43mkey\u001b[49m\u001b[43m)\u001b[49m\n\u001b[32m   4103\u001b[39m \u001b[38;5;28;01mif\u001b[39;00m is_integer(indexer):\n\u001b[32m   4104\u001b[39m     indexer = [indexer]\n",
      "\u001b[36mFile \u001b[39m\u001b[32m~/anaconda3/envs/cifo/lib/python3.13/site-packages/pandas/core/indexes/base.py:3812\u001b[39m, in \u001b[36mIndex.get_loc\u001b[39m\u001b[34m(self, key)\u001b[39m\n\u001b[32m   3807\u001b[39m     \u001b[38;5;28;01mif\u001b[39;00m \u001b[38;5;28misinstance\u001b[39m(casted_key, \u001b[38;5;28mslice\u001b[39m) \u001b[38;5;129;01mor\u001b[39;00m (\n\u001b[32m   3808\u001b[39m         \u001b[38;5;28misinstance\u001b[39m(casted_key, abc.Iterable)\n\u001b[32m   3809\u001b[39m         \u001b[38;5;129;01mand\u001b[39;00m \u001b[38;5;28many\u001b[39m(\u001b[38;5;28misinstance\u001b[39m(x, \u001b[38;5;28mslice\u001b[39m) \u001b[38;5;28;01mfor\u001b[39;00m x \u001b[38;5;129;01min\u001b[39;00m casted_key)\n\u001b[32m   3810\u001b[39m     ):\n\u001b[32m   3811\u001b[39m         \u001b[38;5;28;01mraise\u001b[39;00m InvalidIndexError(key)\n\u001b[32m-> \u001b[39m\u001b[32m3812\u001b[39m     \u001b[38;5;28;01mraise\u001b[39;00m \u001b[38;5;167;01mKeyError\u001b[39;00m(key) \u001b[38;5;28;01mfrom\u001b[39;00m\u001b[38;5;250m \u001b[39m\u001b[34;01merr\u001b[39;00m\n\u001b[32m   3813\u001b[39m \u001b[38;5;28;01mexcept\u001b[39;00m \u001b[38;5;167;01mTypeError\u001b[39;00m:\n\u001b[32m   3814\u001b[39m     \u001b[38;5;66;03m# If we have a listlike key, _check_indexing_error will raise\u001b[39;00m\n\u001b[32m   3815\u001b[39m     \u001b[38;5;66;03m#  InvalidIndexError. Otherwise we fall through and re-raise\u001b[39;00m\n\u001b[32m   3816\u001b[39m     \u001b[38;5;66;03m#  the TypeError.\u001b[39;00m\n\u001b[32m   3817\u001b[39m     \u001b[38;5;28mself\u001b[39m._check_indexing_error(key)\n",
      "\u001b[31mKeyError\u001b[39m: -1"
     ]
    }
   ],
   "source": [
    "# Assign the values of the array, using the properties of modulo 5 to distribute the unique Ids by column\n",
    "shape = (5,7)\n",
    "my_matrix = np.empty(shape=shape)\n",
    "\n",
    "for i in range(shape[1]):\n",
    "    for j in range(shape[0]):\n",
    "        my_matrix[j][i] = data[shape[0] * i + j][0]\n",
    "\n",
    "my_matrix"
   ]
  },
  {
   "cell_type": "code",
   "execution_count": null,
   "metadata": {},
   "outputs": [
    {
     "ename": "NameError",
     "evalue": "name 'my_matrix' is not defined",
     "output_type": "error",
     "traceback": [
      "\u001b[31m---------------------------------------------------------------------------\u001b[39m",
      "\u001b[31mNameError\u001b[39m                                 Traceback (most recent call last)",
      "\u001b[36mCell\u001b[39m\u001b[36m \u001b[39m\u001b[32mIn[4]\u001b[39m\u001b[32m, line 3\u001b[39m\n\u001b[32m      1\u001b[39m ind_cost_matrix = np.array([[\n\u001b[32m      2\u001b[39m         data[\u001b[38;5;28mint\u001b[39m(index), -\u001b[32m1\u001b[39m] \u001b[38;5;28;01mfor\u001b[39;00m index \u001b[38;5;129;01min\u001b[39;00m row\n\u001b[32m----> \u001b[39m\u001b[32m3\u001b[39m     ] \u001b[38;5;28;01mfor\u001b[39;00m row \u001b[38;5;129;01min\u001b[39;00m \u001b[43mmy_matrix\u001b[49m\n\u001b[32m      4\u001b[39m ])\n\u001b[32m      6\u001b[39m ind_cost_matrix\n",
      "\u001b[31mNameError\u001b[39m: name 'my_matrix' is not defined"
     ]
    }
   ],
   "source": [
    "ind_cost_matrix = np.array([[\n",
    "        data[int(index), -1] for index in row\n",
    "    ] for row in my_matrix\n",
    "])\n",
    "\n",
    "ind_cost_matrix"
   ]
  },
  {
   "cell_type": "code",
   "execution_count": 31,
   "metadata": {},
   "outputs": [
    {
     "name": "stdout",
     "output_type": "stream",
     "text": [
      "[[ 90]\n",
      " [100]\n",
      " [ 85]\n",
      " [ 80]\n",
      " [ 95]\n",
      " [110]\n",
      " [ 90]\n",
      " [100]\n",
      " [ 70]\n",
      " [ 75]\n",
      " [ 95]\n",
      " [ 85]\n",
      " [120]\n",
      " [105]\n",
      " [115]\n",
      " [ 85]\n",
      " [ 80]\n",
      " [ 95]\n",
      " [ 85]\n",
      " [150]\n",
      " [120]\n",
      " [140]\n",
      " [ 90]\n",
      " [ 70]\n",
      " [ 95]\n",
      " [110]\n",
      " [130]\n",
      " [100]\n",
      " [ 72]\n",
      " [ 95]\n",
      " [ 65]\n",
      " [110]\n",
      " [125]\n",
      " [100]\n",
      " [ 92]]\n"
     ]
    }
   ],
   "source": [
    "my_matrix = np.array([\n",
    "    [1., 6., 11., 17., 22., 27., 32.],\n",
    "    [4., 8., 13., 19., 24., 26., 31.],\n",
    "    [0., 7., 12., 15., 20., 28., 33.],\n",
    "    [2., 5., 10., 16., 21., 29., 34.],\n",
    "    [3., 9., 14., 18., 23., 25., 30.]\n",
    "], dtype=int)\n",
    "\n",
    "weights = data.iloc[:, 4:].to_numpy()\n",
    "\n",
    "print(weights)"
   ]
  },
  {
   "cell_type": "code",
   "execution_count": 32,
   "metadata": {},
   "outputs": [
    {
     "data": {
      "text/plain": [
       "np.False_"
      ]
     },
     "execution_count": 32,
     "metadata": {},
     "output_type": "execute_result"
    }
   ],
   "source": [
    "\n",
    "np.all(np.sum(weights[my_matrix], axis=1) <= 750)"
   ]
  },
  {
   "cell_type": "code",
   "execution_count": 33,
   "metadata": {},
   "outputs": [
    {
     "data": {
      "text/plain": [
       "array([[[100],\n",
       "        [ 90],\n",
       "        [ 85],\n",
       "        [ 95],\n",
       "        [ 90],\n",
       "        [100],\n",
       "        [125]],\n",
       "\n",
       "       [[ 95],\n",
       "        [ 70],\n",
       "        [105],\n",
       "        [150],\n",
       "        [ 95],\n",
       "        [130],\n",
       "        [110]],\n",
       "\n",
       "       [[ 90],\n",
       "        [100],\n",
       "        [120],\n",
       "        [ 85],\n",
       "        [120],\n",
       "        [ 72],\n",
       "        [100]],\n",
       "\n",
       "       [[ 85],\n",
       "        [110],\n",
       "        [ 95],\n",
       "        [ 80],\n",
       "        [140],\n",
       "        [ 95],\n",
       "        [ 92]],\n",
       "\n",
       "       [[ 80],\n",
       "        [ 75],\n",
       "        [115],\n",
       "        [ 85],\n",
       "        [ 70],\n",
       "        [110],\n",
       "        [ 65]]])"
      ]
     },
     "execution_count": 33,
     "metadata": {},
     "output_type": "execute_result"
    }
   ],
   "source": [
    "weights[my_matrix]"
   ]
  },
  {
   "cell_type": "code",
   "execution_count": 69,
   "metadata": {},
   "outputs": [
    {
     "data": {
      "text/plain": [
       "[692, 710, 750, 680, 592]"
      ]
     },
     "execution_count": 69,
     "metadata": {},
     "output_type": "execute_result"
    }
   ],
   "source": [
    "team_cost_matrix = [\n",
    "    sum(\n",
    "        data[int(index), -1] for index in row\n",
    "    ) for row in my_matrix\n",
    "]\n",
    "\n",
    "team_cost_matrix"
   ]
  },
  {
   "cell_type": "code",
   "execution_count": 64,
   "metadata": {},
   "outputs": [
    {
     "data": {
      "text/plain": [
       "array([[86.57142857,  4.16986272],\n",
       "       [87.42857143,  3.88613443],\n",
       "       [88.14285714,  3.60272006],\n",
       "       [86.14285714,  4.05069911],\n",
       "       [83.71428571,  2.86427681]])"
      ]
     },
     "execution_count": 64,
     "metadata": {},
     "output_type": "execute_result"
    }
   ],
   "source": [
    "team_skill_matrix = np.array([(\n",
    "        np.mean(\n",
    "            [data[int(index), -2] for index in row]\n",
    "        ), np.std(\n",
    "            [data[int(index), -2] for index in row]\n",
    "        )\n",
    "    ) for row in my_matrix\n",
    "])\n",
    "\n",
    "team_skill_matrix"
   ]
  },
  {
   "cell_type": "code",
   "execution_count": 67,
   "metadata": {},
   "outputs": [
    {
     "data": {
      "text/plain": [
       "np.float64(1.51023717558886)"
      ]
     },
     "execution_count": 67,
     "metadata": {},
     "output_type": "execute_result"
    }
   ],
   "source": [
    "team_std = np.std(team_skill_matrix[:, 0])\n",
    "\n",
    "team_std"
   ]
  },
  {
   "cell_type": "code",
   "execution_count": null,
   "metadata": {},
   "outputs": [],
   "source": []
  },
  {
   "cell_type": "code",
   "execution_count": null,
   "metadata": {},
   "outputs": [],
   "source": []
  },
  {
   "cell_type": "code",
   "execution_count": null,
   "metadata": {},
   "outputs": [],
   "source": []
  },
  {
   "cell_type": "markdown",
   "metadata": {},
   "source": [
    "#### Column selector, for mutation"
   ]
  },
  {
   "cell_type": "code",
   "execution_count": null,
   "metadata": {},
   "outputs": [],
   "source": [
    "import random\n",
    "\n",
    "j = random.randint(0, 7)\n",
    "\n",
    "state = random.random() * j < .5 * j\n",
    "\n",
    "print(state * ((-1)**(j+1)))\n",
    "    \n",
    "my_matrix"
   ]
  },
  {
   "cell_type": "code",
   "execution_count": null,
   "metadata": {},
   "outputs": [],
   "source": []
  },
  {
   "cell_type": "code",
   "execution_count": null,
   "metadata": {},
   "outputs": [],
   "source": []
  },
  {
   "cell_type": "code",
   "execution_count": null,
   "metadata": {},
   "outputs": [],
   "source": []
  }
 ],
 "metadata": {
  "kernelspec": {
   "display_name": "cifo",
   "language": "python",
   "name": "python3"
  },
  "language_info": {
   "codemirror_mode": {
    "name": "ipython",
    "version": 3
   },
   "file_extension": ".py",
   "mimetype": "text/x-python",
   "name": "python",
   "nbconvert_exporter": "python",
   "pygments_lexer": "ipython3",
   "version": "3.13.2"
  }
 },
 "nbformat": 4,
 "nbformat_minor": 2
}
