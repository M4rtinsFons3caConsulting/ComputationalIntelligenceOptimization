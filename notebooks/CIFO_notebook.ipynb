{
 "cells": [
  {
   "cell_type": "markdown",
   "metadata": {},
   "source": [
    "# The story\n",
    "\n",
    "The notebooks presented in this directory tell the story of the development of our Genetic Algorithm implementation."
   ]
  },
  {
   "cell_type": "code",
   "execution_count": null,
   "metadata": {},
   "outputs": [
    {
     "data": {
      "text/plain": [
       "(['ability', 'cost'], {'N': 100, '0_m': 0.05, '0_c': 0.5, 'd_ma': 1e-05})"
      ]
     },
     "execution_count": 304,
     "metadata": {},
     "output_type": "execute_result"
    }
   ],
   "source": [
    "import numpy as np\n",
    "import pandas as pd\n",
    "from classes.solver import Solver\n",
    "from classes.solution import Solution\n",
    "from constants import PATH, PARTITIONS, WEIGHTS, SOLVER_KWARGS"
   ]
  },
  {
   "cell_type": "code",
   "execution_count": null,
   "metadata": {},
   "outputs": [],
   "source": [
    "# Load the data\n",
    "data = pd.read_excel(PATH, index_col='Unnamed: 0')\n",
    "\n",
    "# Reset the indices to obtain a unique Id\n",
    "data.reset_index(inplace=True)\n",
    "\n",
    "# Define the custom order based on the PARTITIONS dictionary keys\n",
    "custom_order = list(PARTITIONS.keys())\n",
    "\n",
    "# Set the custom order in the 'position' column using pd.Categorical\n",
    "data['Position'] = pd.Categorical(\n",
    "    data['Position']\n",
    "    , categories=custom_order\n",
    "    , ordered=True\n",
    "    )\n",
    "\n",
    "# Sort data by Position\n",
    "data = data.sort_values(by='Position').to_numpy()"
   ]
  },
  {
   "cell_type": "code",
   "execution_count": null,
   "metadata": {},
   "outputs": [],
   "source": [
    "# Assign the values of the array, using the properties of modulo 5 to distribute the unique Ids by column\n",
    "shape = (5,7)\n",
    "my_matrix = np.empty(shape=shape)\n",
    "\n",
    "for i in range(7):\n",
    "    for j in range(5):\n",
    "        my_matrix[j][i] = data[5 * i + j][0]"
   ]
  },
  {
   "cell_type": "code",
   "execution_count": null,
   "metadata": {},
   "outputs": [],
   "source": [
    "import random\n",
    "\n",
    "for j in range(4):\n",
    "    state = random.random() * j < .5 * j\n",
    "\n",
    "    print(state * ((-1)**(j+1)))\n",
    "    \n",
    "my_matrix"
   ]
  }
 ],
 "metadata": {
  "kernelspec": {
   "display_name": "cifo",
   "language": "python",
   "name": "python3"
  },
  "language_info": {
   "codemirror_mode": {
    "name": "ipython",
    "version": 3
   },
   "file_extension": ".py",
   "mimetype": "text/x-python",
   "name": "python",
   "nbconvert_exporter": "python",
   "pygments_lexer": "ipython3",
   "version": "3.13.2"
  }
 },
 "nbformat": 4,
 "nbformat_minor": 2
}
