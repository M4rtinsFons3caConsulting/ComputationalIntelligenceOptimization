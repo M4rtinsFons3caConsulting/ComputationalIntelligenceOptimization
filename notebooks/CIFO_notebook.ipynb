{
 "cells": [
  {
   "cell_type": "markdown",
   "metadata": {},
   "source": [
    "# The story\n",
    "\n",
    "The notebooks presented in this directory tell the story of the development of our Genetic Algorithm implementation."
   ]
  }
 ],
 "metadata": {
  "language_info": {
   "name": "python"
  }
 },
 "nbformat": 4,
 "nbformat_minor": 2
}
