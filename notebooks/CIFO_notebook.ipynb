{
 "cells": [
  {
   "cell_type": "markdown",
   "metadata": {},
   "source": [
    "# The story\n",
    "\n",
    "The notebooks presented in this directory tell the story of the development of our Genetic Algorithm implementation."
   ]
  },
  {
   "cell_type": "code",
   "execution_count": 4,
   "metadata": {},
   "outputs": [],
   "source": [
    "import pandas as pd\n",
    "from constants import SOURCE"
   ]
  },
  {
   "cell_type": "code",
   "execution_count": 5,
   "metadata": {},
   "outputs": [],
   "source": [
    "data = pd.read_excel(SOURCE, index_col='Unnamed: 0')\n"
   ]
  },
  {
   "cell_type": "code",
   "execution_count": 6,
   "metadata": {},
   "outputs": [
    {
     "data": {
      "application/vnd.microsoft.datawrangler.viewer.v0+json": {
       "columns": [
        {
         "name": "index",
         "rawType": "int64",
         "type": "integer"
        },
        {
         "name": "name",
         "rawType": "object",
         "type": "string"
        },
        {
         "name": "position",
         "rawType": "object",
         "type": "string"
        },
        {
         "name": "skill",
         "rawType": "int64",
         "type": "integer"
        },
        {
         "name": "salary",
         "rawType": "int64",
         "type": "integer"
        }
       ],
       "conversionMethod": "pd.DataFrame",
       "ref": "4bfcfd77-3cfc-4a2e-b2d2-c79d132c6fa2",
       "rows": [
        [
         "0",
         "Alex Carter",
         "GK",
         "85",
         "90"
        ],
        [
         "1",
         "Jordan Smith",
         "GK",
         "88",
         "100"
        ],
        [
         "2",
         "Ryan Mitchell",
         "GK",
         "83",
         "85"
        ],
        [
         "3",
         "Chris Thompson",
         "GK",
         "80",
         "80"
        ],
        [
         "4",
         "Blake Henderson",
         "GK",
         "87",
         "95"
        ],
        [
         "5",
         "Daniel Foster",
         "DEF",
         "90",
         "110"
        ],
        [
         "6",
         "Lucas Bennett",
         "DEF",
         "85",
         "90"
        ],
        [
         "7",
         "Owen Parker",
         "DEF",
         "88",
         "100"
        ],
        [
         "8",
         "Ethan Howard",
         "DEF",
         "80",
         "70"
        ],
        [
         "9",
         "Mason Reed",
         "DEF",
         "82",
         "75"
        ],
        [
         "10",
         "Logan Brooks",
         "DEF",
         "86",
         "95"
        ],
        [
         "11",
         "Caleb Fisher",
         "DEF",
         "84",
         "85"
        ],
        [
         "12",
         "Nathan Wright",
         "MID",
         "92",
         "120"
        ],
        [
         "13",
         "Connor Hayes",
         "MID",
         "89",
         "105"
        ],
        [
         "14",
         "Dylan Morgan",
         "MID",
         "91",
         "115"
        ],
        [
         "15",
         "Hunter Cooper",
         "MID",
         "83",
         "85"
        ],
        [
         "16",
         "Austin Torres",
         "MID",
         "82",
         "80"
        ],
        [
         "17",
         "Gavin Richardson",
         "MID",
         "87",
         "95"
        ],
        [
         "18",
         "Spencer Ward",
         "MID",
         "84",
         "85"
        ],
        [
         "19",
         "Sebastian Perry",
         "FWD",
         "95",
         "150"
        ],
        [
         "20",
         "Xavier Bryant",
         "FWD",
         "90",
         "120"
        ],
        [
         "21",
         "Elijah Sanders",
         "FWD",
         "93",
         "140"
        ],
        [
         "22",
         "Adrian Collins",
         "FWD",
         "85",
         "90"
        ],
        [
         "23",
         "Tyler Jenkins",
         "FWD",
         "80",
         "70"
        ],
        [
         "24",
         "Chase Murphy",
         "FWD",
         "86",
         "95"
        ],
        [
         "25",
         "Landon Powell",
         "FWD",
         "89",
         "110"
        ],
        [
         "26",
         "Julian Scott",
         "FWD",
         "92",
         "130"
        ],
        [
         "27",
         "Bentley Rivera",
         "MID",
         "88",
         "100"
        ],
        [
         "28",
         "Maxwell Flores",
         "DEF",
         "81",
         "72"
        ],
        [
         "29",
         "Dominic Bell",
         "MID",
         "86",
         "95"
        ],
        [
         "30",
         "Jaxon Griffin",
         "DEF",
         "79",
         "65"
        ],
        [
         "31",
         "Ashton Phillips",
         "MID",
         "90",
         "110"
        ],
        [
         "32",
         "Colton Gray",
         "FWD",
         "91",
         "125"
        ],
        [
         "33",
         "Brayden Hughes",
         "DEF",
         "87",
         "100"
        ],
        [
         "34",
         "Zachary Nelson",
         "GK",
         "86",
         "92"
        ]
       ],
       "shape": {
        "columns": 4,
        "rows": 35
       }
      },
      "text/html": [
       "<div>\n",
       "<style scoped>\n",
       "    .dataframe tbody tr th:only-of-type {\n",
       "        vertical-align: middle;\n",
       "    }\n",
       "\n",
       "    .dataframe tbody tr th {\n",
       "        vertical-align: top;\n",
       "    }\n",
       "\n",
       "    .dataframe thead th {\n",
       "        text-align: right;\n",
       "    }\n",
       "</style>\n",
       "<table border=\"1\" class=\"dataframe\">\n",
       "  <thead>\n",
       "    <tr style=\"text-align: right;\">\n",
       "      <th></th>\n",
       "      <th>name</th>\n",
       "      <th>position</th>\n",
       "      <th>skill</th>\n",
       "      <th>salary</th>\n",
       "    </tr>\n",
       "  </thead>\n",
       "  <tbody>\n",
       "    <tr>\n",
       "      <th>0</th>\n",
       "      <td>Alex Carter</td>\n",
       "      <td>GK</td>\n",
       "      <td>85</td>\n",
       "      <td>90</td>\n",
       "    </tr>\n",
       "    <tr>\n",
       "      <th>1</th>\n",
       "      <td>Jordan Smith</td>\n",
       "      <td>GK</td>\n",
       "      <td>88</td>\n",
       "      <td>100</td>\n",
       "    </tr>\n",
       "    <tr>\n",
       "      <th>2</th>\n",
       "      <td>Ryan Mitchell</td>\n",
       "      <td>GK</td>\n",
       "      <td>83</td>\n",
       "      <td>85</td>\n",
       "    </tr>\n",
       "    <tr>\n",
       "      <th>3</th>\n",
       "      <td>Chris Thompson</td>\n",
       "      <td>GK</td>\n",
       "      <td>80</td>\n",
       "      <td>80</td>\n",
       "    </tr>\n",
       "    <tr>\n",
       "      <th>4</th>\n",
       "      <td>Blake Henderson</td>\n",
       "      <td>GK</td>\n",
       "      <td>87</td>\n",
       "      <td>95</td>\n",
       "    </tr>\n",
       "    <tr>\n",
       "      <th>5</th>\n",
       "      <td>Daniel Foster</td>\n",
       "      <td>DEF</td>\n",
       "      <td>90</td>\n",
       "      <td>110</td>\n",
       "    </tr>\n",
       "    <tr>\n",
       "      <th>6</th>\n",
       "      <td>Lucas Bennett</td>\n",
       "      <td>DEF</td>\n",
       "      <td>85</td>\n",
       "      <td>90</td>\n",
       "    </tr>\n",
       "    <tr>\n",
       "      <th>7</th>\n",
       "      <td>Owen Parker</td>\n",
       "      <td>DEF</td>\n",
       "      <td>88</td>\n",
       "      <td>100</td>\n",
       "    </tr>\n",
       "    <tr>\n",
       "      <th>8</th>\n",
       "      <td>Ethan Howard</td>\n",
       "      <td>DEF</td>\n",
       "      <td>80</td>\n",
       "      <td>70</td>\n",
       "    </tr>\n",
       "    <tr>\n",
       "      <th>9</th>\n",
       "      <td>Mason Reed</td>\n",
       "      <td>DEF</td>\n",
       "      <td>82</td>\n",
       "      <td>75</td>\n",
       "    </tr>\n",
       "    <tr>\n",
       "      <th>10</th>\n",
       "      <td>Logan Brooks</td>\n",
       "      <td>DEF</td>\n",
       "      <td>86</td>\n",
       "      <td>95</td>\n",
       "    </tr>\n",
       "    <tr>\n",
       "      <th>11</th>\n",
       "      <td>Caleb Fisher</td>\n",
       "      <td>DEF</td>\n",
       "      <td>84</td>\n",
       "      <td>85</td>\n",
       "    </tr>\n",
       "    <tr>\n",
       "      <th>12</th>\n",
       "      <td>Nathan Wright</td>\n",
       "      <td>MID</td>\n",
       "      <td>92</td>\n",
       "      <td>120</td>\n",
       "    </tr>\n",
       "    <tr>\n",
       "      <th>13</th>\n",
       "      <td>Connor Hayes</td>\n",
       "      <td>MID</td>\n",
       "      <td>89</td>\n",
       "      <td>105</td>\n",
       "    </tr>\n",
       "    <tr>\n",
       "      <th>14</th>\n",
       "      <td>Dylan Morgan</td>\n",
       "      <td>MID</td>\n",
       "      <td>91</td>\n",
       "      <td>115</td>\n",
       "    </tr>\n",
       "    <tr>\n",
       "      <th>15</th>\n",
       "      <td>Hunter Cooper</td>\n",
       "      <td>MID</td>\n",
       "      <td>83</td>\n",
       "      <td>85</td>\n",
       "    </tr>\n",
       "    <tr>\n",
       "      <th>16</th>\n",
       "      <td>Austin Torres</td>\n",
       "      <td>MID</td>\n",
       "      <td>82</td>\n",
       "      <td>80</td>\n",
       "    </tr>\n",
       "    <tr>\n",
       "      <th>17</th>\n",
       "      <td>Gavin Richardson</td>\n",
       "      <td>MID</td>\n",
       "      <td>87</td>\n",
       "      <td>95</td>\n",
       "    </tr>\n",
       "    <tr>\n",
       "      <th>18</th>\n",
       "      <td>Spencer Ward</td>\n",
       "      <td>MID</td>\n",
       "      <td>84</td>\n",
       "      <td>85</td>\n",
       "    </tr>\n",
       "    <tr>\n",
       "      <th>19</th>\n",
       "      <td>Sebastian Perry</td>\n",
       "      <td>FWD</td>\n",
       "      <td>95</td>\n",
       "      <td>150</td>\n",
       "    </tr>\n",
       "    <tr>\n",
       "      <th>20</th>\n",
       "      <td>Xavier Bryant</td>\n",
       "      <td>FWD</td>\n",
       "      <td>90</td>\n",
       "      <td>120</td>\n",
       "    </tr>\n",
       "    <tr>\n",
       "      <th>21</th>\n",
       "      <td>Elijah Sanders</td>\n",
       "      <td>FWD</td>\n",
       "      <td>93</td>\n",
       "      <td>140</td>\n",
       "    </tr>\n",
       "    <tr>\n",
       "      <th>22</th>\n",
       "      <td>Adrian Collins</td>\n",
       "      <td>FWD</td>\n",
       "      <td>85</td>\n",
       "      <td>90</td>\n",
       "    </tr>\n",
       "    <tr>\n",
       "      <th>23</th>\n",
       "      <td>Tyler Jenkins</td>\n",
       "      <td>FWD</td>\n",
       "      <td>80</td>\n",
       "      <td>70</td>\n",
       "    </tr>\n",
       "    <tr>\n",
       "      <th>24</th>\n",
       "      <td>Chase Murphy</td>\n",
       "      <td>FWD</td>\n",
       "      <td>86</td>\n",
       "      <td>95</td>\n",
       "    </tr>\n",
       "    <tr>\n",
       "      <th>25</th>\n",
       "      <td>Landon Powell</td>\n",
       "      <td>FWD</td>\n",
       "      <td>89</td>\n",
       "      <td>110</td>\n",
       "    </tr>\n",
       "    <tr>\n",
       "      <th>26</th>\n",
       "      <td>Julian Scott</td>\n",
       "      <td>FWD</td>\n",
       "      <td>92</td>\n",
       "      <td>130</td>\n",
       "    </tr>\n",
       "    <tr>\n",
       "      <th>27</th>\n",
       "      <td>Bentley Rivera</td>\n",
       "      <td>MID</td>\n",
       "      <td>88</td>\n",
       "      <td>100</td>\n",
       "    </tr>\n",
       "    <tr>\n",
       "      <th>28</th>\n",
       "      <td>Maxwell Flores</td>\n",
       "      <td>DEF</td>\n",
       "      <td>81</td>\n",
       "      <td>72</td>\n",
       "    </tr>\n",
       "    <tr>\n",
       "      <th>29</th>\n",
       "      <td>Dominic Bell</td>\n",
       "      <td>MID</td>\n",
       "      <td>86</td>\n",
       "      <td>95</td>\n",
       "    </tr>\n",
       "    <tr>\n",
       "      <th>30</th>\n",
       "      <td>Jaxon Griffin</td>\n",
       "      <td>DEF</td>\n",
       "      <td>79</td>\n",
       "      <td>65</td>\n",
       "    </tr>\n",
       "    <tr>\n",
       "      <th>31</th>\n",
       "      <td>Ashton Phillips</td>\n",
       "      <td>MID</td>\n",
       "      <td>90</td>\n",
       "      <td>110</td>\n",
       "    </tr>\n",
       "    <tr>\n",
       "      <th>32</th>\n",
       "      <td>Colton Gray</td>\n",
       "      <td>FWD</td>\n",
       "      <td>91</td>\n",
       "      <td>125</td>\n",
       "    </tr>\n",
       "    <tr>\n",
       "      <th>33</th>\n",
       "      <td>Brayden Hughes</td>\n",
       "      <td>DEF</td>\n",
       "      <td>87</td>\n",
       "      <td>100</td>\n",
       "    </tr>\n",
       "    <tr>\n",
       "      <th>34</th>\n",
       "      <td>Zachary Nelson</td>\n",
       "      <td>GK</td>\n",
       "      <td>86</td>\n",
       "      <td>92</td>\n",
       "    </tr>\n",
       "  </tbody>\n",
       "</table>\n",
       "</div>"
      ],
      "text/plain": [
       "                name position  skill  salary\n",
       "0        Alex Carter       GK     85      90\n",
       "1       Jordan Smith       GK     88     100\n",
       "2      Ryan Mitchell       GK     83      85\n",
       "3     Chris Thompson       GK     80      80\n",
       "4    Blake Henderson       GK     87      95\n",
       "5      Daniel Foster      DEF     90     110\n",
       "6      Lucas Bennett      DEF     85      90\n",
       "7        Owen Parker      DEF     88     100\n",
       "8       Ethan Howard      DEF     80      70\n",
       "9         Mason Reed      DEF     82      75\n",
       "10      Logan Brooks      DEF     86      95\n",
       "11      Caleb Fisher      DEF     84      85\n",
       "12     Nathan Wright      MID     92     120\n",
       "13      Connor Hayes      MID     89     105\n",
       "14      Dylan Morgan      MID     91     115\n",
       "15     Hunter Cooper      MID     83      85\n",
       "16     Austin Torres      MID     82      80\n",
       "17  Gavin Richardson      MID     87      95\n",
       "18      Spencer Ward      MID     84      85\n",
       "19   Sebastian Perry      FWD     95     150\n",
       "20     Xavier Bryant      FWD     90     120\n",
       "21    Elijah Sanders      FWD     93     140\n",
       "22    Adrian Collins      FWD     85      90\n",
       "23     Tyler Jenkins      FWD     80      70\n",
       "24      Chase Murphy      FWD     86      95\n",
       "25     Landon Powell      FWD     89     110\n",
       "26      Julian Scott      FWD     92     130\n",
       "27    Bentley Rivera      MID     88     100\n",
       "28    Maxwell Flores      DEF     81      72\n",
       "29      Dominic Bell      MID     86      95\n",
       "30     Jaxon Griffin      DEF     79      65\n",
       "31   Ashton Phillips      MID     90     110\n",
       "32       Colton Gray      FWD     91     125\n",
       "33    Brayden Hughes      DEF     87     100\n",
       "34    Zachary Nelson       GK     86      92"
      ]
     },
     "execution_count": 6,
     "metadata": {},
     "output_type": "execute_result"
    }
   ],
   "source": [
    "data"
   ]
  },
  {
   "cell_type": "code",
   "execution_count": 10,
   "metadata": {},
   "outputs": [
    {
     "data": {
      "text/plain": [
       "Index([ 0,  1,  2,  3,  4,  5,  6,  7,  8,  9, 10, 11, 12, 13, 14, 15, 16, 17,\n",
       "       18, 19, 20, 21, 22, 23, 24, 25, 26, 27, 28, 29, 30, 31, 32, 33, 34],\n",
       "      dtype='int64')"
      ]
     },
     "execution_count": 10,
     "metadata": {},
     "output_type": "execute_result"
    }
   ],
   "source": [
    "data.index"
   ]
  },
  {
   "cell_type": "markdown",
   "metadata": {},
   "source": [
    "Note that we have an excess of one `GK`, and a deficit of one `FWD`. This can either be a bug or a feature.\n",
    "\n",
    "Lets go ahead an "
   ]
  },
  {
   "cell_type": "code",
   "execution_count": null,
   "metadata": {},
   "outputs": [],
   "source": []
  }
 ],
 "metadata": {
  "kernelspec": {
   "display_name": "cifo",
   "language": "python",
   "name": "python3"
  },
  "language_info": {
   "codemirror_mode": {
    "name": "ipython",
    "version": 3
   },
   "file_extension": ".py",
   "mimetype": "text/x-python",
   "name": "python",
   "nbconvert_exporter": "python",
   "pygments_lexer": "ipython3",
   "version": "3.13.2"
  }
 },
 "nbformat": 4,
 "nbformat_minor": 2
}
