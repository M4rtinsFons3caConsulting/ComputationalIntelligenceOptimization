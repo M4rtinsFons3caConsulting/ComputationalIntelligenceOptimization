{
 "cells": [
  {
   "cell_type": "markdown",
   "metadata": {},
   "source": [
    "# The story\n",
    "\n",
    "The notebooks presented in this directory tell the story of the development of our Genetic Algorithm implementation."
   ]
  },
  {
   "cell_type": "code",
   "execution_count": null,
   "metadata": {},
   "outputs": [
    {
     "data": {
      "text/plain": [
       "(['ability', 'cost'], {'N': 100, '0_m': 0.05, '0_c': 0.5, 'd_ma': 1e-05})"
      ]
     },
     "execution_count": 304,
     "metadata": {},
     "output_type": "execute_result"
    }
   ],
   "source": [
    "import numpy as np\n",
    "import pandas as pd\n",
    "from classes.solver import Solver\n",
    "from classes.solution import Solution\n",
    "from constants import PATH, PARTITIONS, WEIGHTS, SOLVER_KWARGS"
   ]
  },
  {
   "cell_type": "code",
   "execution_count": null,
   "metadata": {},
   "outputs": [],
   "source": [
    "# Load the data\n",
    "data = pd.read_excel(PATH, index_col='Unnamed: 0')\n",
    "\n",
    "# Reset the indices to obtain a unique Id\n",
    "data.reset_index(inplace=True)\n",
    "\n",
    "# Define the custom order based on the PARTITIONS dictionary keys\n",
    "custom_order = list(PARTITIONS.keys())\n",
    "\n",
    "# Set the custom order in the 'position' column using pd.Categorical\n",
    "data['Position'] = pd.Categorical(\n",
    "    data['Position']\n",
    "    , categories=custom_order\n",
    "    , ordered=True\n",
    "    )\n",
    "\n",
    "# Sort data by Position\n",
    "data = data.sort_values(by='Position').to_numpy()"
   ]
  }
 ],
 "metadata": {
  "kernelspec": {
   "display_name": "cifo",
   "language": "python",
   "name": "python3"
  },
  "language_info": {
   "codemirror_mode": {
    "name": "ipython",
    "version": 3
   },
   "file_extension": ".py",
   "mimetype": "text/x-python",
   "name": "python",
   "nbconvert_exporter": "python",
   "pygments_lexer": "ipython3",
   "version": "3.12.9"
  }
 },
 "nbformat": 4,
 "nbformat_minor": 2
}
