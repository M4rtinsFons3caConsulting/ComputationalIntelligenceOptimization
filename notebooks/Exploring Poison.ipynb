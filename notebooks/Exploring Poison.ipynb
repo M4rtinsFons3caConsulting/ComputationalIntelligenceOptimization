{
 "cells": [
  {
   "cell_type": "markdown",
   "id": "7f467338",
   "metadata": {},
   "source": [
    "# Environmental based selection"
   ]
  },
  {
   "cell_type": "markdown",
   "id": "9fd0dec8",
   "metadata": {},
   "source": [
    "### Exploring the application of an environmental pathogen as a selection mechanism in a population, over a fitness landscape.\n",
    "\n",
    "In this notebook we explore how to successfully poison a population of solutions, using some interactive graphs made with plotly. Our idea is to parametrize a function such that:\n",
    "\n",
    "- k (pathogen severity) - determines how lethal the pathogen is;\n",
    "- p (percentile baseline) - determines for at which percentile the severity level is found;\n",
    "\n",
    "\n",
    "With the constraints that, all individuals must be selectable with a non-zero, probability."
   ]
  },
  {
   "cell_type": "markdown",
   "id": "77f4429e",
   "metadata": {},
   "source": [
    "## Initial setup\n",
    "\n",
    "Below we setup the tools for our exploration and experimentation:\n",
    "    - Defining our imports;\n",
    "    - Our plotting helper functions;\n",
    "    - And general calling template."
   ]
  },
  {
   "cell_type": "code",
   "execution_count": 1,
   "id": "11a73a50",
   "metadata": {},
   "outputs": [],
   "source": [
    "# Imports\n",
    "import numpy as np\n",
    "import plotly.graph_objects as go\n",
    "from ipywidgets import interactive, fixed"
   ]
  },
  {
   "cell_type": "code",
   "execution_count": 2,
   "id": "393bd512",
   "metadata": {},
   "outputs": [],
   "source": [
    "# Define the helper plotter function\n",
    "def plot_function(formula, title, **kwargs):\n",
    "    x = np.linspace(-10, 10, 1000)  # Generate x values\n",
    "    \n",
    "    # Dynamically evaluate the formula using eval\n",
    "    y = eval(\n",
    "        formula,\n",
    "        {   # Globals\n",
    "            'np': np,\n",
    "            'x': x\n",
    "        },\n",
    "        kwargs  # Ensure all kwarg parameters are passed as local variables to eval\n",
    "    )  # Evaluate the formula as a string expression\n",
    "    \n",
    "    # Create a Plotly figure\n",
    "    fig = go.Figure(data=go.Scatter(x=x, y=y, mode='lines', name=title))\n",
    "    \n",
    "    # Update layout for the plot\n",
    "    fig.update_layout(\n",
    "        title=title,\n",
    "        xaxis_title='x',\n",
    "        yaxis_title='f(x)',\n",
    "        template='plotly_dark',\n",
    "        width=800,\n",
    "        height=600\n",
    "    )\n",
    "\n",
    "    # Show the plot\n",
    "    fig.show()\n",
    "\n",
    "# Function to create interactive plot\n",
    "def create_interactive_plot(formula, title, **kwargs):\n",
    "    # Create the interactive plot using the provided formula and title, along with any additional keyword arguments\n",
    "    interactive_plot = interactive(plot_function, formula=fixed(formula), title=fixed(title), **kwargs)\n",
    "    return interactive_plot"
   ]
  },
  {
   "cell_type": "markdown",
   "id": "e80eef99",
   "metadata": {},
   "source": [
    "**Below we now turn to the use of these tools**"
   ]
  },
  {
   "cell_type": "markdown",
   "id": "6d685042",
   "metadata": {},
   "source": [
    "## The Logistic Curve\n",
    "\n",
    "\n",
    "Our first instinct is to use the LOgistic curve, because:\n",
    "    - it's values are bound between 0, 1;\n",
    "    - it can be easily centrered at a given value;\n",
    "    - it's derivative grows fastest, the further away from whatever centre point we desire;\n",
    "    - it is very easily parametrized.\n",
    "\n",
    "Here:\n",
    "\n",
    "$$\n",
    "f(x) = \\frac{1}{1 + e^{k(x - p)}}\n",
    "$$\n",
    "\n",
    "- *k controls for the steepness of the decay in the neighbourhood of x-p* <br>\n",
    "- *p controls the translation of the curve i.e. increasing or decreasing the threshold*"
   ]
  },
  {
   "cell_type": "code",
   "execution_count": null,
   "id": "067c11a6",
   "metadata": {},
   "outputs": [
    {
     "data": {
      "application/vnd.jupyter.widget-view+json": {
       "model_id": "4281a7b740244a1baaa0e858cac81478",
       "version_major": 2,
       "version_minor": 0
      },
      "text/plain": [
       "interactive(children=(FloatSlider(value=0.0, description='k', max=10.0, min=-10.0, step=0.5), FloatSlider(valu…"
      ]
     },
     "metadata": {},
     "output_type": "display_data"
    }
   ],
   "source": [
    "formula = \"1 / (1 + np.exp(k * (x - p)))\"\n",
    "title = \"Logistic Curve: f(x) = 1 / (1 + e^(1 -k(x - p))\"\n",
    "kwargs = {\n",
    "    'k': (-10, 10, .5),\n",
    "    'p': (-10, 10, .5),\n",
    "    }\n",
    "\n",
    "interactive_plot = create_interactive_plot(formula, title, **kwargs)\n",
    "interactive_plot"
   ]
  },
  {
   "cell_type": "markdown",
   "id": "589ef37e",
   "metadata": {},
   "source": [
    "The parameter k controls the steepness of the curve.\n",
    "The parameter p controls the translation of the curve."
   ]
  },
  {
   "cell_type": "code",
   "execution_count": null,
   "id": "173f3d40",
   "metadata": {},
   "outputs": [],
   "source": []
  }
 ],
 "metadata": {
  "kernelspec": {
   "display_name": "cifo",
   "language": "python",
   "name": "python3"
  },
  "language_info": {
   "codemirror_mode": {
    "name": "ipython",
    "version": 3
   },
   "file_extension": ".py",
   "mimetype": "text/x-python",
   "name": "python",
   "nbconvert_exporter": "python",
   "pygments_lexer": "ipython3",
   "version": "3.13.2"
  }
 },
 "nbformat": 4,
 "nbformat_minor": 5
}
