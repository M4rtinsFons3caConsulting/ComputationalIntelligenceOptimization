{
 "cells": [
  {
   "cell_type": "markdown",
   "metadata": {},
   "source": [
    "# Matrix creating using mod 7,5 "
   ]
  },
  {
   "cell_type": "code",
   "execution_count": null,
   "metadata": {},
   "outputs": [],
   "source": [
    "# Assign the values of the array, using the properties of modulo 5 to distribute the unique Ids by column\n",
    "shape = (5,7)\n",
    "my_matrix = np.empty(shape=shape)\n",
    "\n",
    "for i in range(7):\n",
    "    for j in range(5):\n",
    "        my_matrix[j][i] = data[5 * i + j][0]"
   ]
  },
  {
   "cell_type": "code",
   "execution_count": null,
   "metadata": {},
   "outputs": [],
   "source": [
    "import random\n",
    "\n",
    "for j in range(4):\n",
    "    state = random.random() * j < .5 * j\n",
    "\n",
    "    print(state * ((-1)**(j+1)))\n",
    "    \n",
    "my_matrix"
   ]
  },
  {
   "cell_type": "code",
   "execution_count": null,
   "metadata": {},
   "outputs": [],
   "source": []
  },
  {
   "cell_type": "code",
   "execution_count": null,
   "metadata": {},
   "outputs": [],
   "source": []
  },
  {
   "cell_type": "code",
   "execution_count": null,
   "metadata": {},
   "outputs": [],
   "source": []
  }
 ],
 "metadata": {
  "language_info": {
   "name": "python"
  }
 },
 "nbformat": 4,
 "nbformat_minor": 2
}
