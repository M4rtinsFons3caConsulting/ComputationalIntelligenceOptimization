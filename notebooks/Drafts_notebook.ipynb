{
 "cells": [
  {
   "cell_type": "markdown",
   "metadata": {},
   "source": [
    "# Matrix creating using mod 7,5 "
   ]
  },
  {
   "cell_type": "code",
   "execution_count": 51,
   "metadata": {},
   "outputs": [],
   "source": [
    "# TODO: index matrix and weights; calculate rowise cost; calculate rowise mean and std. dev."
   ]
  },
  {
   "cell_type": "code",
   "execution_count": 1,
   "metadata": {},
   "outputs": [],
   "source": [
    "import pandas as pd\n",
    "import numpy as np\n",
    "from constants import PATH, PARTITIONS"
   ]
  },
  {
   "cell_type": "markdown",
   "metadata": {},
   "source": [
    "Loading"
   ]
  },
  {
   "cell_type": "code",
   "execution_count": 10,
   "metadata": {},
   "outputs": [
    {
     "data": {
      "application/vnd.microsoft.datawrangler.viewer.v0+json": {
       "columns": [
        {
         "name": "index",
         "rawType": "int64",
         "type": "integer"
        },
        {
         "name": "Unnamed: 0",
         "rawType": "int64",
         "type": "integer"
        },
        {
         "name": "Name",
         "rawType": "object",
         "type": "string"
        },
        {
         "name": "Position",
         "rawType": "object",
         "type": "string"
        },
        {
         "name": "Skill",
         "rawType": "int64",
         "type": "integer"
        },
        {
         "name": "Salary (â‚¬M)",
         "rawType": "int64",
         "type": "integer"
        }
       ],
       "conversionMethod": "pd.DataFrame",
       "ref": "97c97e94-ecce-4fc6-8c06-c420a085db63",
       "rows": [
        [
         "0",
         "0",
         "Alex Carter",
         "GK",
         "85",
         "90"
        ],
        [
         "1",
         "1",
         "Jordan Smith",
         "GK",
         "88",
         "100"
        ],
        [
         "2",
         "2",
         "Ryan Mitchell",
         "GK",
         "83",
         "85"
        ],
        [
         "3",
         "3",
         "Chris Thompson",
         "GK",
         "80",
         "80"
        ],
        [
         "4",
         "4",
         "Blake Henderson",
         "GK",
         "87",
         "95"
        ],
        [
         "5",
         "5",
         "Daniel Foster",
         "DEF",
         "90",
         "110"
        ],
        [
         "6",
         "6",
         "Lucas Bennett",
         "DEF",
         "85",
         "90"
        ],
        [
         "7",
         "7",
         "Owen Parker",
         "DEF",
         "88",
         "100"
        ],
        [
         "8",
         "8",
         "Ethan Howard",
         "DEF",
         "80",
         "70"
        ],
        [
         "9",
         "9",
         "Mason Reed",
         "DEF",
         "82",
         "75"
        ],
        [
         "10",
         "10",
         "Logan Brooks",
         "DEF",
         "86",
         "95"
        ],
        [
         "11",
         "11",
         "Caleb Fisher",
         "DEF",
         "84",
         "85"
        ],
        [
         "12",
         "12",
         "Nathan Wright",
         "MID",
         "92",
         "120"
        ],
        [
         "13",
         "13",
         "Connor Hayes",
         "MID",
         "89",
         "105"
        ],
        [
         "14",
         "14",
         "Dylan Morgan",
         "MID",
         "91",
         "115"
        ],
        [
         "15",
         "15",
         "Hunter Cooper",
         "MID",
         "83",
         "85"
        ],
        [
         "16",
         "16",
         "Austin Torres",
         "MID",
         "82",
         "80"
        ],
        [
         "17",
         "17",
         "Gavin Richardson",
         "MID",
         "87",
         "95"
        ],
        [
         "18",
         "18",
         "Spencer Ward",
         "MID",
         "84",
         "85"
        ],
        [
         "19",
         "19",
         "Sebastian Perry",
         "FWD",
         "95",
         "150"
        ],
        [
         "20",
         "20",
         "Xavier Bryant",
         "FWD",
         "90",
         "120"
        ],
        [
         "21",
         "21",
         "Elijah Sanders",
         "FWD",
         "93",
         "140"
        ],
        [
         "22",
         "22",
         "Adrian Collins",
         "FWD",
         "85",
         "90"
        ],
        [
         "23",
         "23",
         "Tyler Jenkins",
         "FWD",
         "80",
         "70"
        ],
        [
         "24",
         "24",
         "Chase Murphy",
         "FWD",
         "86",
         "95"
        ],
        [
         "25",
         "25",
         "Landon Powell",
         "FWD",
         "89",
         "110"
        ],
        [
         "26",
         "26",
         "Julian Scott",
         "FWD",
         "92",
         "130"
        ],
        [
         "27",
         "27",
         "Bentley Rivera",
         "MID",
         "88",
         "100"
        ],
        [
         "28",
         "28",
         "Maxwell Flores",
         "DEF",
         "81",
         "72"
        ],
        [
         "29",
         "29",
         "Dominic Bell",
         "MID",
         "86",
         "95"
        ],
        [
         "30",
         "30",
         "Jaxon Griffin",
         "DEF",
         "79",
         "65"
        ],
        [
         "31",
         "31",
         "Ashton Phillips",
         "MID",
         "90",
         "110"
        ],
        [
         "32",
         "32",
         "Colton Gray",
         "FWD",
         "91",
         "125"
        ],
        [
         "33",
         "33",
         "Brayden Hughes",
         "DEF",
         "87",
         "100"
        ],
        [
         "34",
         "34",
         "Zachary Nelson",
         "FWD",
         "86",
         "92"
        ]
       ],
       "shape": {
        "columns": 5,
        "rows": 35
       }
      },
      "text/html": [
       "<div>\n",
       "<style scoped>\n",
       "    .dataframe tbody tr th:only-of-type {\n",
       "        vertical-align: middle;\n",
       "    }\n",
       "\n",
       "    .dataframe tbody tr th {\n",
       "        vertical-align: top;\n",
       "    }\n",
       "\n",
       "    .dataframe thead th {\n",
       "        text-align: right;\n",
       "    }\n",
       "</style>\n",
       "<table border=\"1\" class=\"dataframe\">\n",
       "  <thead>\n",
       "    <tr style=\"text-align: right;\">\n",
       "      <th></th>\n",
       "      <th>Unnamed: 0</th>\n",
       "      <th>Name</th>\n",
       "      <th>Position</th>\n",
       "      <th>Skill</th>\n",
       "      <th>Salary (â‚¬M)</th>\n",
       "    </tr>\n",
       "  </thead>\n",
       "  <tbody>\n",
       "    <tr>\n",
       "      <th>0</th>\n",
       "      <td>0</td>\n",
       "      <td>Alex Carter</td>\n",
       "      <td>GK</td>\n",
       "      <td>85</td>\n",
       "      <td>90</td>\n",
       "    </tr>\n",
       "    <tr>\n",
       "      <th>1</th>\n",
       "      <td>1</td>\n",
       "      <td>Jordan Smith</td>\n",
       "      <td>GK</td>\n",
       "      <td>88</td>\n",
       "      <td>100</td>\n",
       "    </tr>\n",
       "    <tr>\n",
       "      <th>2</th>\n",
       "      <td>2</td>\n",
       "      <td>Ryan Mitchell</td>\n",
       "      <td>GK</td>\n",
       "      <td>83</td>\n",
       "      <td>85</td>\n",
       "    </tr>\n",
       "    <tr>\n",
       "      <th>3</th>\n",
       "      <td>3</td>\n",
       "      <td>Chris Thompson</td>\n",
       "      <td>GK</td>\n",
       "      <td>80</td>\n",
       "      <td>80</td>\n",
       "    </tr>\n",
       "    <tr>\n",
       "      <th>4</th>\n",
       "      <td>4</td>\n",
       "      <td>Blake Henderson</td>\n",
       "      <td>GK</td>\n",
       "      <td>87</td>\n",
       "      <td>95</td>\n",
       "    </tr>\n",
       "    <tr>\n",
       "      <th>5</th>\n",
       "      <td>5</td>\n",
       "      <td>Daniel Foster</td>\n",
       "      <td>DEF</td>\n",
       "      <td>90</td>\n",
       "      <td>110</td>\n",
       "    </tr>\n",
       "    <tr>\n",
       "      <th>6</th>\n",
       "      <td>6</td>\n",
       "      <td>Lucas Bennett</td>\n",
       "      <td>DEF</td>\n",
       "      <td>85</td>\n",
       "      <td>90</td>\n",
       "    </tr>\n",
       "    <tr>\n",
       "      <th>7</th>\n",
       "      <td>7</td>\n",
       "      <td>Owen Parker</td>\n",
       "      <td>DEF</td>\n",
       "      <td>88</td>\n",
       "      <td>100</td>\n",
       "    </tr>\n",
       "    <tr>\n",
       "      <th>8</th>\n",
       "      <td>8</td>\n",
       "      <td>Ethan Howard</td>\n",
       "      <td>DEF</td>\n",
       "      <td>80</td>\n",
       "      <td>70</td>\n",
       "    </tr>\n",
       "    <tr>\n",
       "      <th>9</th>\n",
       "      <td>9</td>\n",
       "      <td>Mason Reed</td>\n",
       "      <td>DEF</td>\n",
       "      <td>82</td>\n",
       "      <td>75</td>\n",
       "    </tr>\n",
       "    <tr>\n",
       "      <th>10</th>\n",
       "      <td>10</td>\n",
       "      <td>Logan Brooks</td>\n",
       "      <td>DEF</td>\n",
       "      <td>86</td>\n",
       "      <td>95</td>\n",
       "    </tr>\n",
       "    <tr>\n",
       "      <th>11</th>\n",
       "      <td>11</td>\n",
       "      <td>Caleb Fisher</td>\n",
       "      <td>DEF</td>\n",
       "      <td>84</td>\n",
       "      <td>85</td>\n",
       "    </tr>\n",
       "    <tr>\n",
       "      <th>12</th>\n",
       "      <td>12</td>\n",
       "      <td>Nathan Wright</td>\n",
       "      <td>MID</td>\n",
       "      <td>92</td>\n",
       "      <td>120</td>\n",
       "    </tr>\n",
       "    <tr>\n",
       "      <th>13</th>\n",
       "      <td>13</td>\n",
       "      <td>Connor Hayes</td>\n",
       "      <td>MID</td>\n",
       "      <td>89</td>\n",
       "      <td>105</td>\n",
       "    </tr>\n",
       "    <tr>\n",
       "      <th>14</th>\n",
       "      <td>14</td>\n",
       "      <td>Dylan Morgan</td>\n",
       "      <td>MID</td>\n",
       "      <td>91</td>\n",
       "      <td>115</td>\n",
       "    </tr>\n",
       "    <tr>\n",
       "      <th>15</th>\n",
       "      <td>15</td>\n",
       "      <td>Hunter Cooper</td>\n",
       "      <td>MID</td>\n",
       "      <td>83</td>\n",
       "      <td>85</td>\n",
       "    </tr>\n",
       "    <tr>\n",
       "      <th>16</th>\n",
       "      <td>16</td>\n",
       "      <td>Austin Torres</td>\n",
       "      <td>MID</td>\n",
       "      <td>82</td>\n",
       "      <td>80</td>\n",
       "    </tr>\n",
       "    <tr>\n",
       "      <th>17</th>\n",
       "      <td>17</td>\n",
       "      <td>Gavin Richardson</td>\n",
       "      <td>MID</td>\n",
       "      <td>87</td>\n",
       "      <td>95</td>\n",
       "    </tr>\n",
       "    <tr>\n",
       "      <th>18</th>\n",
       "      <td>18</td>\n",
       "      <td>Spencer Ward</td>\n",
       "      <td>MID</td>\n",
       "      <td>84</td>\n",
       "      <td>85</td>\n",
       "    </tr>\n",
       "    <tr>\n",
       "      <th>19</th>\n",
       "      <td>19</td>\n",
       "      <td>Sebastian Perry</td>\n",
       "      <td>FWD</td>\n",
       "      <td>95</td>\n",
       "      <td>150</td>\n",
       "    </tr>\n",
       "    <tr>\n",
       "      <th>20</th>\n",
       "      <td>20</td>\n",
       "      <td>Xavier Bryant</td>\n",
       "      <td>FWD</td>\n",
       "      <td>90</td>\n",
       "      <td>120</td>\n",
       "    </tr>\n",
       "    <tr>\n",
       "      <th>21</th>\n",
       "      <td>21</td>\n",
       "      <td>Elijah Sanders</td>\n",
       "      <td>FWD</td>\n",
       "      <td>93</td>\n",
       "      <td>140</td>\n",
       "    </tr>\n",
       "    <tr>\n",
       "      <th>22</th>\n",
       "      <td>22</td>\n",
       "      <td>Adrian Collins</td>\n",
       "      <td>FWD</td>\n",
       "      <td>85</td>\n",
       "      <td>90</td>\n",
       "    </tr>\n",
       "    <tr>\n",
       "      <th>23</th>\n",
       "      <td>23</td>\n",
       "      <td>Tyler Jenkins</td>\n",
       "      <td>FWD</td>\n",
       "      <td>80</td>\n",
       "      <td>70</td>\n",
       "    </tr>\n",
       "    <tr>\n",
       "      <th>24</th>\n",
       "      <td>24</td>\n",
       "      <td>Chase Murphy</td>\n",
       "      <td>FWD</td>\n",
       "      <td>86</td>\n",
       "      <td>95</td>\n",
       "    </tr>\n",
       "    <tr>\n",
       "      <th>25</th>\n",
       "      <td>25</td>\n",
       "      <td>Landon Powell</td>\n",
       "      <td>FWD</td>\n",
       "      <td>89</td>\n",
       "      <td>110</td>\n",
       "    </tr>\n",
       "    <tr>\n",
       "      <th>26</th>\n",
       "      <td>26</td>\n",
       "      <td>Julian Scott</td>\n",
       "      <td>FWD</td>\n",
       "      <td>92</td>\n",
       "      <td>130</td>\n",
       "    </tr>\n",
       "    <tr>\n",
       "      <th>27</th>\n",
       "      <td>27</td>\n",
       "      <td>Bentley Rivera</td>\n",
       "      <td>MID</td>\n",
       "      <td>88</td>\n",
       "      <td>100</td>\n",
       "    </tr>\n",
       "    <tr>\n",
       "      <th>28</th>\n",
       "      <td>28</td>\n",
       "      <td>Maxwell Flores</td>\n",
       "      <td>DEF</td>\n",
       "      <td>81</td>\n",
       "      <td>72</td>\n",
       "    </tr>\n",
       "    <tr>\n",
       "      <th>29</th>\n",
       "      <td>29</td>\n",
       "      <td>Dominic Bell</td>\n",
       "      <td>MID</td>\n",
       "      <td>86</td>\n",
       "      <td>95</td>\n",
       "    </tr>\n",
       "    <tr>\n",
       "      <th>30</th>\n",
       "      <td>30</td>\n",
       "      <td>Jaxon Griffin</td>\n",
       "      <td>DEF</td>\n",
       "      <td>79</td>\n",
       "      <td>65</td>\n",
       "    </tr>\n",
       "    <tr>\n",
       "      <th>31</th>\n",
       "      <td>31</td>\n",
       "      <td>Ashton Phillips</td>\n",
       "      <td>MID</td>\n",
       "      <td>90</td>\n",
       "      <td>110</td>\n",
       "    </tr>\n",
       "    <tr>\n",
       "      <th>32</th>\n",
       "      <td>32</td>\n",
       "      <td>Colton Gray</td>\n",
       "      <td>FWD</td>\n",
       "      <td>91</td>\n",
       "      <td>125</td>\n",
       "    </tr>\n",
       "    <tr>\n",
       "      <th>33</th>\n",
       "      <td>33</td>\n",
       "      <td>Brayden Hughes</td>\n",
       "      <td>DEF</td>\n",
       "      <td>87</td>\n",
       "      <td>100</td>\n",
       "    </tr>\n",
       "    <tr>\n",
       "      <th>34</th>\n",
       "      <td>34</td>\n",
       "      <td>Zachary Nelson</td>\n",
       "      <td>FWD</td>\n",
       "      <td>86</td>\n",
       "      <td>92</td>\n",
       "    </tr>\n",
       "  </tbody>\n",
       "</table>\n",
       "</div>"
      ],
      "text/plain": [
       "    Unnamed: 0              Name Position  Skill  Salary (â‚¬M)\n",
       "0            0       Alex Carter       GK     85             90\n",
       "1            1      Jordan Smith       GK     88            100\n",
       "2            2     Ryan Mitchell       GK     83             85\n",
       "3            3    Chris Thompson       GK     80             80\n",
       "4            4   Blake Henderson       GK     87             95\n",
       "5            5     Daniel Foster      DEF     90            110\n",
       "6            6     Lucas Bennett      DEF     85             90\n",
       "7            7       Owen Parker      DEF     88            100\n",
       "8            8      Ethan Howard      DEF     80             70\n",
       "9            9        Mason Reed      DEF     82             75\n",
       "10          10      Logan Brooks      DEF     86             95\n",
       "11          11      Caleb Fisher      DEF     84             85\n",
       "12          12     Nathan Wright      MID     92            120\n",
       "13          13      Connor Hayes      MID     89            105\n",
       "14          14      Dylan Morgan      MID     91            115\n",
       "15          15     Hunter Cooper      MID     83             85\n",
       "16          16     Austin Torres      MID     82             80\n",
       "17          17  Gavin Richardson      MID     87             95\n",
       "18          18      Spencer Ward      MID     84             85\n",
       "19          19   Sebastian Perry      FWD     95            150\n",
       "20          20     Xavier Bryant      FWD     90            120\n",
       "21          21    Elijah Sanders      FWD     93            140\n",
       "22          22    Adrian Collins      FWD     85             90\n",
       "23          23     Tyler Jenkins      FWD     80             70\n",
       "24          24      Chase Murphy      FWD     86             95\n",
       "25          25     Landon Powell      FWD     89            110\n",
       "26          26      Julian Scott      FWD     92            130\n",
       "27          27    Bentley Rivera      MID     88            100\n",
       "28          28    Maxwell Flores      DEF     81             72\n",
       "29          29      Dominic Bell      MID     86             95\n",
       "30          30     Jaxon Griffin      DEF     79             65\n",
       "31          31   Ashton Phillips      MID     90            110\n",
       "32          32       Colton Gray      FWD     91            125\n",
       "33          33    Brayden Hughes      DEF     87            100\n",
       "34          34    Zachary Nelson      FWD     86             92"
      ]
     },
     "execution_count": 10,
     "metadata": {},
     "output_type": "execute_result"
    }
   ],
   "source": [
    "data = pd.read_excel(PATH)\n",
    "data"
   ]
  },
  {
   "cell_type": "code",
   "execution_count": 48,
   "metadata": {},
   "outputs": [],
   "source": [
    "# Load the data\n",
    "data = pd.read_excel(PATH, index_col='Unnamed: 0')\n",
    "\n",
    "# Define the custom order based on the PARTITIONS dictionary keys\n",
    "custom_order = list(PARTITIONS.keys())\n",
    "\n",
    "# Set the custom order in the 'position' column using pd.Categorical\n",
    "data['Position'] = pd.Categorical(\n",
    "    data['Position']\n",
    "    , categories=custom_order\n",
    "    , ordered=True\n",
    "    )\n",
    "\n",
    "# Sort data by Position\n",
    "data = data.sort_values(by='Position')\n",
    "\n",
    "# Reset the indices to obtain a unique Id\n",
    "data.reset_index(inplace=True, drop=True)\n",
    "data.reset_index(inplace=True)\n",
    "\n",
    "# Transform to np array\n",
    "data = np.array(data)"
   ]
  },
  {
   "cell_type": "code",
   "execution_count": 60,
   "metadata": {},
   "outputs": [
    {
     "data": {
      "text/plain": [
       "array([[0, 'Alex Carter', 'GK', 85, 90],\n",
       "       [1, 'Jordan Smith', 'GK', 88, 100],\n",
       "       [2, 'Ryan Mitchell', 'GK', 83, 85],\n",
       "       [3, 'Chris Thompson', 'GK', 80, 80],\n",
       "       [4, 'Blake Henderson', 'GK', 87, 95],\n",
       "       [5, 'Maxwell Flores', 'DEF', 81, 72],\n",
       "       [6, 'Jaxon Griffin', 'DEF', 79, 65],\n",
       "       [7, 'Caleb Fisher', 'DEF', 84, 85],\n",
       "       [8, 'Logan Brooks', 'DEF', 86, 95],\n",
       "       [9, 'Ethan Howard', 'DEF', 80, 70],\n",
       "       [10, 'Owen Parker', 'DEF', 88, 100],\n",
       "       [11, 'Lucas Bennett', 'DEF', 85, 90],\n",
       "       [12, 'Daniel Foster', 'DEF', 90, 110],\n",
       "       [13, 'Mason Reed', 'DEF', 82, 75],\n",
       "       [14, 'Brayden Hughes', 'DEF', 87, 100],\n",
       "       [15, 'Bentley Rivera', 'MID', 88, 100],\n",
       "       [16, 'Ashton Phillips', 'MID', 90, 110],\n",
       "       [17, 'Dominic Bell', 'MID', 86, 95],\n",
       "       [18, 'Gavin Richardson', 'MID', 87, 95],\n",
       "       [19, 'Austin Torres', 'MID', 82, 80],\n",
       "       [20, 'Hunter Cooper', 'MID', 83, 85],\n",
       "       [21, 'Dylan Morgan', 'MID', 91, 115],\n",
       "       [22, 'Connor Hayes', 'MID', 89, 105],\n",
       "       [23, 'Nathan Wright', 'MID', 92, 120],\n",
       "       [24, 'Spencer Ward', 'MID', 84, 85],\n",
       "       [25, 'Sebastian Perry', 'FWD', 95, 150],\n",
       "       [26, 'Xavier Bryant', 'FWD', 90, 120],\n",
       "       [27, 'Elijah Sanders', 'FWD', 93, 140],\n",
       "       [28, 'Adrian Collins', 'FWD', 85, 90],\n",
       "       [29, 'Tyler Jenkins', 'FWD', 80, 70],\n",
       "       [30, 'Chase Murphy', 'FWD', 86, 95],\n",
       "       [31, 'Landon Powell', 'FWD', 89, 110],\n",
       "       [32, 'Julian Scott', 'FWD', 92, 130],\n",
       "       [33, 'Colton Gray', 'FWD', 91, 125],\n",
       "       [34, 'Zachary Nelson', 'FWD', 86, 92]], dtype=object)"
      ]
     },
     "execution_count": 60,
     "metadata": {},
     "output_type": "execute_result"
    }
   ],
   "source": [
    "data"
   ]
  },
  {
   "cell_type": "markdown",
   "metadata": {},
   "source": [
    "Drafting"
   ]
  },
  {
   "cell_type": "code",
   "execution_count": 52,
   "metadata": {},
   "outputs": [
    {
     "data": {
      "text/plain": [
       "array([[ 0.,  5., 10., 15., 20., 25., 30.],\n",
       "       [ 1.,  6., 11., 16., 21., 26., 31.],\n",
       "       [ 2.,  7., 12., 17., 22., 27., 32.],\n",
       "       [ 3.,  8., 13., 18., 23., 28., 33.],\n",
       "       [ 4.,  9., 14., 19., 24., 29., 34.]])"
      ]
     },
     "execution_count": 52,
     "metadata": {},
     "output_type": "execute_result"
    }
   ],
   "source": [
    "# Assign the values of the array, using the properties of modulo 5 to distribute the unique Ids by column\n",
    "shape = (5,7)\n",
    "my_matrix = np.empty(shape=shape)\n",
    "\n",
    "for i in range(shape[1]):\n",
    "    for j in range(shape[0]):\n",
    "        my_matrix[j][i] = data[shape[0] * i + j][0]\n",
    "\n",
    "my_matrix"
   ]
  },
  {
   "cell_type": "code",
   "execution_count": 63,
   "metadata": {},
   "outputs": [
    {
     "data": {
      "text/plain": [
       "array([[ 90,  72, 100, 100,  85, 150,  95],\n",
       "       [100,  65,  90, 110, 115, 120, 110],\n",
       "       [ 85,  85, 110,  95, 105, 140, 130],\n",
       "       [ 80,  95,  75,  95, 120,  90, 125],\n",
       "       [ 95,  70, 100,  80,  85,  70,  92]])"
      ]
     },
     "execution_count": 63,
     "metadata": {},
     "output_type": "execute_result"
    }
   ],
   "source": [
    "ind_cost_matrix = np.array([[\n",
    "        data[int(index), -1] for index in row\n",
    "    ] for row in my_matrix\n",
    "])\n",
    "\n",
    "ind_cost_matrix"
   ]
  },
  {
   "cell_type": "code",
   "execution_count": null,
   "metadata": {},
   "outputs": [],
   "source": []
  },
  {
   "cell_type": "code",
   "execution_count": 69,
   "metadata": {},
   "outputs": [
    {
     "data": {
      "text/plain": [
       "[692, 710, 750, 680, 592]"
      ]
     },
     "execution_count": 69,
     "metadata": {},
     "output_type": "execute_result"
    }
   ],
   "source": [
    "team_cost_matrix = [\n",
    "    sum(\n",
    "        data[int(index), -1] for index in row\n",
    "    ) for row in my_matrix\n",
    "]\n",
    "\n",
    "team_cost_matrix"
   ]
  },
  {
   "cell_type": "code",
   "execution_count": 64,
   "metadata": {},
   "outputs": [
    {
     "data": {
      "text/plain": [
       "array([[86.57142857,  4.16986272],\n",
       "       [87.42857143,  3.88613443],\n",
       "       [88.14285714,  3.60272006],\n",
       "       [86.14285714,  4.05069911],\n",
       "       [83.71428571,  2.86427681]])"
      ]
     },
     "execution_count": 64,
     "metadata": {},
     "output_type": "execute_result"
    }
   ],
   "source": [
    "team_skill_matrix = np.array([(\n",
    "        np.mean(\n",
    "            [data[int(index), -2] for index in row]\n",
    "        ), np.std(\n",
    "            [data[int(index), -2] for index in row]\n",
    "        )\n",
    "    ) for row in my_matrix\n",
    "])\n",
    "\n",
    "team_skill_matrix"
   ]
  },
  {
   "cell_type": "code",
   "execution_count": 67,
   "metadata": {},
   "outputs": [
    {
     "data": {
      "text/plain": [
       "np.float64(1.51023717558886)"
      ]
     },
     "execution_count": 67,
     "metadata": {},
     "output_type": "execute_result"
    }
   ],
   "source": [
    "team_std = np.std(team_skill_matrix[:, 0])\n",
    "\n",
    "team_std"
   ]
  },
  {
   "cell_type": "code",
   "execution_count": null,
   "metadata": {},
   "outputs": [],
   "source": []
  },
  {
   "cell_type": "code",
   "execution_count": null,
   "metadata": {},
   "outputs": [],
   "source": []
  },
  {
   "cell_type": "code",
   "execution_count": null,
   "metadata": {},
   "outputs": [],
   "source": []
  },
  {
   "cell_type": "markdown",
   "metadata": {},
   "source": [
    "#### Column selector, for mutation"
   ]
  },
  {
   "cell_type": "code",
   "execution_count": null,
   "metadata": {},
   "outputs": [],
   "source": [
    "import random\n",
    "\n",
    "j = random.randint(0, 7)\n",
    "\n",
    "state = random.random() * j < .5 * j\n",
    "\n",
    "print(state * ((-1)**(j+1)))\n",
    "    \n",
    "my_matrix"
   ]
  },
  {
   "cell_type": "code",
   "execution_count": null,
   "metadata": {},
   "outputs": [],
   "source": []
  },
  {
   "cell_type": "code",
   "execution_count": null,
   "metadata": {},
   "outputs": [],
   "source": []
  },
  {
   "cell_type": "code",
   "execution_count": null,
   "metadata": {},
   "outputs": [],
   "source": []
  }
 ],
 "metadata": {
  "kernelspec": {
   "display_name": "cifo",
   "language": "python",
   "name": "python3"
  },
  "language_info": {
   "codemirror_mode": {
    "name": "ipython",
    "version": 3
   },
   "file_extension": ".py",
   "mimetype": "text/x-python",
   "name": "python",
   "nbconvert_exporter": "python",
   "pygments_lexer": "ipython3",
   "version": "3.12.9"
  }
 },
 "nbformat": 4,
 "nbformat_minor": 2
}
